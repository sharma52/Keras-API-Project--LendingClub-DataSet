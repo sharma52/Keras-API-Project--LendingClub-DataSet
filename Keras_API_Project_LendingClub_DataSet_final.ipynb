{
  "nbformat": 4,
  "nbformat_minor": 0,
  "metadata": {
    "colab": {
      "provenance": [],
      "collapsed_sections": []
    },
    "kernelspec": {
      "name": "python3",
      "display_name": "Python 3"
    },
    "language_info": {
      "name": "python"
    }
  },
  "cells": [
    {
      "cell_type": "code",
      "execution_count": 1,
      "metadata": {
        "id": "9saxLFaH8f6z"
      },
      "outputs": [],
      "source": [
        "import pandas as pd\n",
        "import numpy as np\n",
        "import matplotlib.pyplot as plt\n",
        "import seaborn as sns\n",
        "%matplotlib inline"
      ]
    },
    {
      "cell_type": "code",
      "source": [
        "data_info = pd.read_csv('lending_club_info.csv',index_col='LoanStatNew')"
      ],
      "metadata": {
        "id": "gsQBgXdE8uwA"
      },
      "execution_count": 2,
      "outputs": []
    },
    {
      "cell_type": "code",
      "source": [
        "print(data_info.loc['revol_util']['Description'])"
      ],
      "metadata": {
        "colab": {
          "base_uri": "https://localhost:8080/"
        },
        "id": "B0zjHuik9QH6",
        "outputId": "56d8a37d-2440-4c89-b93e-c0a06a6234ab"
      },
      "execution_count": 3,
      "outputs": [
        {
          "output_type": "stream",
          "name": "stdout",
          "text": [
            "Revolving line utilization rate, or the amount of credit the borrower is using relative to all available revolving credit.\n"
          ]
        }
      ]
    },
    {
      "cell_type": "code",
      "source": [
        "def feat_info(col_name):\n",
        "  print(data_info.loc[col_name]['Description'])"
      ],
      "metadata": {
        "id": "9tk46I6r9Z0u"
      },
      "execution_count": 4,
      "outputs": []
    },
    {
      "cell_type": "code",
      "source": [
        "feat_info('mort_acc')"
      ],
      "metadata": {
        "colab": {
          "base_uri": "https://localhost:8080/"
        },
        "id": "t2JTJIrN9ihr",
        "outputId": "ef83a86b-9944-4521-8559-acf784d698e2"
      },
      "execution_count": 5,
      "outputs": [
        {
          "output_type": "stream",
          "name": "stdout",
          "text": [
            "Number of mortgage accounts.\n"
          ]
        }
      ]
    },
    {
      "cell_type": "markdown",
      "source": [
        "##Loading the data \n",
        "\n",
        "---\n",
        "\n"
      ],
      "metadata": {
        "id": "w2HTdOdO9mg4"
      }
    },
    {
      "cell_type": "code",
      "source": [
        " df= pd.read_csv('lending_club_loan_two.csv')"
      ],
      "metadata": {
        "id": "nfaAif6S9lKm"
      },
      "execution_count": 6,
      "outputs": []
    },
    {
      "cell_type": "code",
      "source": [
        "df.info()"
      ],
      "metadata": {
        "colab": {
          "base_uri": "https://localhost:8080/"
        },
        "id": "ah1k1Eh-98o2",
        "outputId": "3e8954a7-8c46-4f7c-f003-7be9d5d7fe81"
      },
      "execution_count": 7,
      "outputs": [
        {
          "output_type": "stream",
          "name": "stdout",
          "text": [
            "<class 'pandas.core.frame.DataFrame'>\n",
            "RangeIndex: 66466 entries, 0 to 66465\n",
            "Data columns (total 27 columns):\n",
            " #   Column                Non-Null Count  Dtype  \n",
            "---  ------                --------------  -----  \n",
            " 0   loan_amnt             66466 non-null  float64\n",
            " 1   term                  66466 non-null  object \n",
            " 2   int_rate              66466 non-null  float64\n",
            " 3   installment           66466 non-null  float64\n",
            " 4   grade                 66466 non-null  object \n",
            " 5   sub_grade             66466 non-null  object \n",
            " 6   emp_title             62658 non-null  object \n",
            " 7   emp_length            63406 non-null  object \n",
            " 8   home_ownership        66466 non-null  object \n",
            " 9   annual_inc            66466 non-null  float64\n",
            " 10  verification_status   66465 non-null  object \n",
            " 11  issue_d               66465 non-null  object \n",
            " 12  loan_status           66465 non-null  object \n",
            " 13  purpose               66465 non-null  object \n",
            " 14  title                 66188 non-null  object \n",
            " 15  dti                   66465 non-null  float64\n",
            " 16  earliest_cr_line      66465 non-null  object \n",
            " 17  open_acc              66465 non-null  float64\n",
            " 18  pub_rec               66465 non-null  float64\n",
            " 19  revol_bal             66465 non-null  float64\n",
            " 20  revol_util            66416 non-null  float64\n",
            " 21  total_acc             66465 non-null  float64\n",
            " 22  initial_list_status   66465 non-null  object \n",
            " 23  application_type      66465 non-null  object \n",
            " 24  mort_acc              60169 non-null  float64\n",
            " 25  pub_rec_bankruptcies  66390 non-null  float64\n",
            " 26  address               66465 non-null  object \n",
            "dtypes: float64(12), object(15)\n",
            "memory usage: 13.7+ MB\n"
          ]
        }
      ]
    },
    {
      "cell_type": "code",
      "source": [
        "df.describe()"
      ],
      "metadata": {
        "colab": {
          "base_uri": "https://localhost:8080/",
          "height": 300
        },
        "id": "52YYY6sx-nu6",
        "outputId": "ffbdae77-3df2-4863-a224-956d641dd7e4"
      },
      "execution_count": 8,
      "outputs": [
        {
          "output_type": "execute_result",
          "data": {
            "text/plain": [
              "          loan_amnt      int_rate   installment    annual_inc           dti  \\\n",
              "count  66466.000000  66466.000000  66466.000000  6.646600e+04  66465.000000   \n",
              "mean   14099.133768     13.648673    431.165195  7.425586e+04     17.328020   \n",
              "std     8365.180271      4.453668    250.733653  5.640275e+04      8.163181   \n",
              "min      500.000000      5.320000     16.310000  2.500000e+03      0.000000   \n",
              "25%     8000.000000     10.490000    250.257500  4.500000e+04     11.280000   \n",
              "50%    12000.000000     13.330000    375.380000  6.390400e+04     16.830000   \n",
              "75%    20000.000000     16.490000    566.820000  9.000000e+04     22.920000   \n",
              "max    40000.000000     30.990000   1533.810000  6.100000e+06    189.900000   \n",
              "\n",
              "           open_acc       pub_rec     revol_bal    revol_util     total_acc  \\\n",
              "count  66465.000000  66465.000000  6.646500e+04  66416.000000  66465.000000   \n",
              "mean      11.306643      0.179508  1.580397e+04     53.785681     25.444881   \n",
              "std        5.116233      0.513997  1.994127e+04     24.399169     11.874714   \n",
              "min        0.000000      0.000000  0.000000e+00      0.000000      2.000000   \n",
              "25%        8.000000      0.000000  6.030000e+03     35.875000     17.000000   \n",
              "50%       10.000000      0.000000  1.115700e+04     54.900000     24.000000   \n",
              "75%       14.000000      0.000000  1.954400e+04     72.800000     32.000000   \n",
              "max       57.000000     19.000000  1.190046e+06    150.700000    135.000000   \n",
              "\n",
              "           mort_acc  pub_rec_bankruptcies  \n",
              "count  60169.000000          66390.000000  \n",
              "mean       1.816882              0.123000  \n",
              "std        2.153383              0.358145  \n",
              "min        0.000000              0.000000  \n",
              "25%        0.000000              0.000000  \n",
              "50%        1.000000              0.000000  \n",
              "75%        3.000000              0.000000  \n",
              "max       34.000000              6.000000  "
            ],
            "text/html": [
              "\n",
              "  <div id=\"df-d7983419-d510-43c2-b3ca-d5a14f3b069f\">\n",
              "    <div class=\"colab-df-container\">\n",
              "      <div>\n",
              "<style scoped>\n",
              "    .dataframe tbody tr th:only-of-type {\n",
              "        vertical-align: middle;\n",
              "    }\n",
              "\n",
              "    .dataframe tbody tr th {\n",
              "        vertical-align: top;\n",
              "    }\n",
              "\n",
              "    .dataframe thead th {\n",
              "        text-align: right;\n",
              "    }\n",
              "</style>\n",
              "<table border=\"1\" class=\"dataframe\">\n",
              "  <thead>\n",
              "    <tr style=\"text-align: right;\">\n",
              "      <th></th>\n",
              "      <th>loan_amnt</th>\n",
              "      <th>int_rate</th>\n",
              "      <th>installment</th>\n",
              "      <th>annual_inc</th>\n",
              "      <th>dti</th>\n",
              "      <th>open_acc</th>\n",
              "      <th>pub_rec</th>\n",
              "      <th>revol_bal</th>\n",
              "      <th>revol_util</th>\n",
              "      <th>total_acc</th>\n",
              "      <th>mort_acc</th>\n",
              "      <th>pub_rec_bankruptcies</th>\n",
              "    </tr>\n",
              "  </thead>\n",
              "  <tbody>\n",
              "    <tr>\n",
              "      <th>count</th>\n",
              "      <td>66466.000000</td>\n",
              "      <td>66466.000000</td>\n",
              "      <td>66466.000000</td>\n",
              "      <td>6.646600e+04</td>\n",
              "      <td>66465.000000</td>\n",
              "      <td>66465.000000</td>\n",
              "      <td>66465.000000</td>\n",
              "      <td>6.646500e+04</td>\n",
              "      <td>66416.000000</td>\n",
              "      <td>66465.000000</td>\n",
              "      <td>60169.000000</td>\n",
              "      <td>66390.000000</td>\n",
              "    </tr>\n",
              "    <tr>\n",
              "      <th>mean</th>\n",
              "      <td>14099.133768</td>\n",
              "      <td>13.648673</td>\n",
              "      <td>431.165195</td>\n",
              "      <td>7.425586e+04</td>\n",
              "      <td>17.328020</td>\n",
              "      <td>11.306643</td>\n",
              "      <td>0.179508</td>\n",
              "      <td>1.580397e+04</td>\n",
              "      <td>53.785681</td>\n",
              "      <td>25.444881</td>\n",
              "      <td>1.816882</td>\n",
              "      <td>0.123000</td>\n",
              "    </tr>\n",
              "    <tr>\n",
              "      <th>std</th>\n",
              "      <td>8365.180271</td>\n",
              "      <td>4.453668</td>\n",
              "      <td>250.733653</td>\n",
              "      <td>5.640275e+04</td>\n",
              "      <td>8.163181</td>\n",
              "      <td>5.116233</td>\n",
              "      <td>0.513997</td>\n",
              "      <td>1.994127e+04</td>\n",
              "      <td>24.399169</td>\n",
              "      <td>11.874714</td>\n",
              "      <td>2.153383</td>\n",
              "      <td>0.358145</td>\n",
              "    </tr>\n",
              "    <tr>\n",
              "      <th>min</th>\n",
              "      <td>500.000000</td>\n",
              "      <td>5.320000</td>\n",
              "      <td>16.310000</td>\n",
              "      <td>2.500000e+03</td>\n",
              "      <td>0.000000</td>\n",
              "      <td>0.000000</td>\n",
              "      <td>0.000000</td>\n",
              "      <td>0.000000e+00</td>\n",
              "      <td>0.000000</td>\n",
              "      <td>2.000000</td>\n",
              "      <td>0.000000</td>\n",
              "      <td>0.000000</td>\n",
              "    </tr>\n",
              "    <tr>\n",
              "      <th>25%</th>\n",
              "      <td>8000.000000</td>\n",
              "      <td>10.490000</td>\n",
              "      <td>250.257500</td>\n",
              "      <td>4.500000e+04</td>\n",
              "      <td>11.280000</td>\n",
              "      <td>8.000000</td>\n",
              "      <td>0.000000</td>\n",
              "      <td>6.030000e+03</td>\n",
              "      <td>35.875000</td>\n",
              "      <td>17.000000</td>\n",
              "      <td>0.000000</td>\n",
              "      <td>0.000000</td>\n",
              "    </tr>\n",
              "    <tr>\n",
              "      <th>50%</th>\n",
              "      <td>12000.000000</td>\n",
              "      <td>13.330000</td>\n",
              "      <td>375.380000</td>\n",
              "      <td>6.390400e+04</td>\n",
              "      <td>16.830000</td>\n",
              "      <td>10.000000</td>\n",
              "      <td>0.000000</td>\n",
              "      <td>1.115700e+04</td>\n",
              "      <td>54.900000</td>\n",
              "      <td>24.000000</td>\n",
              "      <td>1.000000</td>\n",
              "      <td>0.000000</td>\n",
              "    </tr>\n",
              "    <tr>\n",
              "      <th>75%</th>\n",
              "      <td>20000.000000</td>\n",
              "      <td>16.490000</td>\n",
              "      <td>566.820000</td>\n",
              "      <td>9.000000e+04</td>\n",
              "      <td>22.920000</td>\n",
              "      <td>14.000000</td>\n",
              "      <td>0.000000</td>\n",
              "      <td>1.954400e+04</td>\n",
              "      <td>72.800000</td>\n",
              "      <td>32.000000</td>\n",
              "      <td>3.000000</td>\n",
              "      <td>0.000000</td>\n",
              "    </tr>\n",
              "    <tr>\n",
              "      <th>max</th>\n",
              "      <td>40000.000000</td>\n",
              "      <td>30.990000</td>\n",
              "      <td>1533.810000</td>\n",
              "      <td>6.100000e+06</td>\n",
              "      <td>189.900000</td>\n",
              "      <td>57.000000</td>\n",
              "      <td>19.000000</td>\n",
              "      <td>1.190046e+06</td>\n",
              "      <td>150.700000</td>\n",
              "      <td>135.000000</td>\n",
              "      <td>34.000000</td>\n",
              "      <td>6.000000</td>\n",
              "    </tr>\n",
              "  </tbody>\n",
              "</table>\n",
              "</div>\n",
              "      <button class=\"colab-df-convert\" onclick=\"convertToInteractive('df-d7983419-d510-43c2-b3ca-d5a14f3b069f')\"\n",
              "              title=\"Convert this dataframe to an interactive table.\"\n",
              "              style=\"display:none;\">\n",
              "        \n",
              "  <svg xmlns=\"http://www.w3.org/2000/svg\" height=\"24px\"viewBox=\"0 0 24 24\"\n",
              "       width=\"24px\">\n",
              "    <path d=\"M0 0h24v24H0V0z\" fill=\"none\"/>\n",
              "    <path d=\"M18.56 5.44l.94 2.06.94-2.06 2.06-.94-2.06-.94-.94-2.06-.94 2.06-2.06.94zm-11 1L8.5 8.5l.94-2.06 2.06-.94-2.06-.94L8.5 2.5l-.94 2.06-2.06.94zm10 10l.94 2.06.94-2.06 2.06-.94-2.06-.94-.94-2.06-.94 2.06-2.06.94z\"/><path d=\"M17.41 7.96l-1.37-1.37c-.4-.4-.92-.59-1.43-.59-.52 0-1.04.2-1.43.59L10.3 9.45l-7.72 7.72c-.78.78-.78 2.05 0 2.83L4 21.41c.39.39.9.59 1.41.59.51 0 1.02-.2 1.41-.59l7.78-7.78 2.81-2.81c.8-.78.8-2.07 0-2.86zM5.41 20L4 18.59l7.72-7.72 1.47 1.35L5.41 20z\"/>\n",
              "  </svg>\n",
              "      </button>\n",
              "      \n",
              "  <style>\n",
              "    .colab-df-container {\n",
              "      display:flex;\n",
              "      flex-wrap:wrap;\n",
              "      gap: 12px;\n",
              "    }\n",
              "\n",
              "    .colab-df-convert {\n",
              "      background-color: #E8F0FE;\n",
              "      border: none;\n",
              "      border-radius: 50%;\n",
              "      cursor: pointer;\n",
              "      display: none;\n",
              "      fill: #1967D2;\n",
              "      height: 32px;\n",
              "      padding: 0 0 0 0;\n",
              "      width: 32px;\n",
              "    }\n",
              "\n",
              "    .colab-df-convert:hover {\n",
              "      background-color: #E2EBFA;\n",
              "      box-shadow: 0px 1px 2px rgba(60, 64, 67, 0.3), 0px 1px 3px 1px rgba(60, 64, 67, 0.15);\n",
              "      fill: #174EA6;\n",
              "    }\n",
              "\n",
              "    [theme=dark] .colab-df-convert {\n",
              "      background-color: #3B4455;\n",
              "      fill: #D2E3FC;\n",
              "    }\n",
              "\n",
              "    [theme=dark] .colab-df-convert:hover {\n",
              "      background-color: #434B5C;\n",
              "      box-shadow: 0px 1px 3px 1px rgba(0, 0, 0, 0.15);\n",
              "      filter: drop-shadow(0px 1px 2px rgba(0, 0, 0, 0.3));\n",
              "      fill: #FFFFFF;\n",
              "    }\n",
              "  </style>\n",
              "\n",
              "      <script>\n",
              "        const buttonEl =\n",
              "          document.querySelector('#df-d7983419-d510-43c2-b3ca-d5a14f3b069f button.colab-df-convert');\n",
              "        buttonEl.style.display =\n",
              "          google.colab.kernel.accessAllowed ? 'block' : 'none';\n",
              "\n",
              "        async function convertToInteractive(key) {\n",
              "          const element = document.querySelector('#df-d7983419-d510-43c2-b3ca-d5a14f3b069f');\n",
              "          const dataTable =\n",
              "            await google.colab.kernel.invokeFunction('convertToInteractive',\n",
              "                                                     [key], {});\n",
              "          if (!dataTable) return;\n",
              "\n",
              "          const docLinkHtml = 'Like what you see? Visit the ' +\n",
              "            '<a target=\"_blank\" href=https://colab.research.google.com/notebooks/data_table.ipynb>data table notebook</a>'\n",
              "            + ' to learn more about interactive tables.';\n",
              "          element.innerHTML = '';\n",
              "          dataTable['output_type'] = 'display_data';\n",
              "          await google.colab.output.renderOutput(dataTable, element);\n",
              "          const docLink = document.createElement('div');\n",
              "          docLink.innerHTML = docLinkHtml;\n",
              "          element.appendChild(docLink);\n",
              "        }\n",
              "      </script>\n",
              "    </div>\n",
              "  </div>\n",
              "  "
            ]
          },
          "metadata": {},
          "execution_count": 8
        }
      ]
    },
    {
      "cell_type": "code",
      "source": [
        "df.head()"
      ],
      "metadata": {
        "colab": {
          "base_uri": "https://localhost:8080/",
          "height": 473
        },
        "id": "ru-DJnyD-qRL",
        "outputId": "062e80cb-f53a-4d65-86ac-945e9cfd0364"
      },
      "execution_count": 9,
      "outputs": [
        {
          "output_type": "execute_result",
          "data": {
            "text/plain": [
              "   loan_amnt        term  int_rate  installment grade sub_grade  \\\n",
              "0    10000.0   36 months     11.44       329.48     B        B4   \n",
              "1     8000.0   36 months     11.99       265.68     B        B5   \n",
              "2    15600.0   36 months     10.49       506.97     B        B3   \n",
              "3     7200.0   36 months      6.49       220.65     A        A2   \n",
              "4    24375.0   60 months     17.27       609.33     C        C5   \n",
              "\n",
              "                 emp_title emp_length home_ownership  annual_inc  ...  \\\n",
              "0                Marketing  10+ years           RENT    117000.0  ...   \n",
              "1          Credit analyst     4 years       MORTGAGE     65000.0  ...   \n",
              "2             Statistician   < 1 year           RENT     43057.0  ...   \n",
              "3          Client Advocate    6 years           RENT     54000.0  ...   \n",
              "4  Destiny Management Inc.    9 years       MORTGAGE     55000.0  ...   \n",
              "\n",
              "  open_acc pub_rec revol_bal revol_util total_acc  initial_list_status  \\\n",
              "0     16.0     0.0   36369.0       41.8      25.0                    w   \n",
              "1     17.0     0.0   20131.0       53.3      27.0                    f   \n",
              "2     13.0     0.0   11987.0       92.2      26.0                    f   \n",
              "3      6.0     0.0    5472.0       21.5      13.0                    f   \n",
              "4     13.0     0.0   24584.0       69.8      43.0                    f   \n",
              "\n",
              "  application_type  mort_acc  pub_rec_bankruptcies  \\\n",
              "0       INDIVIDUAL       0.0                   0.0   \n",
              "1       INDIVIDUAL       3.0                   0.0   \n",
              "2       INDIVIDUAL       0.0                   0.0   \n",
              "3       INDIVIDUAL       0.0                   0.0   \n",
              "4       INDIVIDUAL       1.0                   0.0   \n",
              "\n",
              "                                           address  \n",
              "0     0174 Michelle Gateway\\nMendozaberg, OK 22690  \n",
              "1  1076 Carney Fort Apt. 347\\nLoganmouth, SD 05113  \n",
              "2  87025 Mark Dale Apt. 269\\nNew Sabrina, WV 05113  \n",
              "3            823 Reid Ford\\nDelacruzside, MA 00813  \n",
              "4             679 Luna Roads\\nGreggshire, VA 11650  \n",
              "\n",
              "[5 rows x 27 columns]"
            ],
            "text/html": [
              "\n",
              "  <div id=\"df-67e05958-5da7-42f1-865c-f1c1229da040\">\n",
              "    <div class=\"colab-df-container\">\n",
              "      <div>\n",
              "<style scoped>\n",
              "    .dataframe tbody tr th:only-of-type {\n",
              "        vertical-align: middle;\n",
              "    }\n",
              "\n",
              "    .dataframe tbody tr th {\n",
              "        vertical-align: top;\n",
              "    }\n",
              "\n",
              "    .dataframe thead th {\n",
              "        text-align: right;\n",
              "    }\n",
              "</style>\n",
              "<table border=\"1\" class=\"dataframe\">\n",
              "  <thead>\n",
              "    <tr style=\"text-align: right;\">\n",
              "      <th></th>\n",
              "      <th>loan_amnt</th>\n",
              "      <th>term</th>\n",
              "      <th>int_rate</th>\n",
              "      <th>installment</th>\n",
              "      <th>grade</th>\n",
              "      <th>sub_grade</th>\n",
              "      <th>emp_title</th>\n",
              "      <th>emp_length</th>\n",
              "      <th>home_ownership</th>\n",
              "      <th>annual_inc</th>\n",
              "      <th>...</th>\n",
              "      <th>open_acc</th>\n",
              "      <th>pub_rec</th>\n",
              "      <th>revol_bal</th>\n",
              "      <th>revol_util</th>\n",
              "      <th>total_acc</th>\n",
              "      <th>initial_list_status</th>\n",
              "      <th>application_type</th>\n",
              "      <th>mort_acc</th>\n",
              "      <th>pub_rec_bankruptcies</th>\n",
              "      <th>address</th>\n",
              "    </tr>\n",
              "  </thead>\n",
              "  <tbody>\n",
              "    <tr>\n",
              "      <th>0</th>\n",
              "      <td>10000.0</td>\n",
              "      <td>36 months</td>\n",
              "      <td>11.44</td>\n",
              "      <td>329.48</td>\n",
              "      <td>B</td>\n",
              "      <td>B4</td>\n",
              "      <td>Marketing</td>\n",
              "      <td>10+ years</td>\n",
              "      <td>RENT</td>\n",
              "      <td>117000.0</td>\n",
              "      <td>...</td>\n",
              "      <td>16.0</td>\n",
              "      <td>0.0</td>\n",
              "      <td>36369.0</td>\n",
              "      <td>41.8</td>\n",
              "      <td>25.0</td>\n",
              "      <td>w</td>\n",
              "      <td>INDIVIDUAL</td>\n",
              "      <td>0.0</td>\n",
              "      <td>0.0</td>\n",
              "      <td>0174 Michelle Gateway\\nMendozaberg, OK 22690</td>\n",
              "    </tr>\n",
              "    <tr>\n",
              "      <th>1</th>\n",
              "      <td>8000.0</td>\n",
              "      <td>36 months</td>\n",
              "      <td>11.99</td>\n",
              "      <td>265.68</td>\n",
              "      <td>B</td>\n",
              "      <td>B5</td>\n",
              "      <td>Credit analyst</td>\n",
              "      <td>4 years</td>\n",
              "      <td>MORTGAGE</td>\n",
              "      <td>65000.0</td>\n",
              "      <td>...</td>\n",
              "      <td>17.0</td>\n",
              "      <td>0.0</td>\n",
              "      <td>20131.0</td>\n",
              "      <td>53.3</td>\n",
              "      <td>27.0</td>\n",
              "      <td>f</td>\n",
              "      <td>INDIVIDUAL</td>\n",
              "      <td>3.0</td>\n",
              "      <td>0.0</td>\n",
              "      <td>1076 Carney Fort Apt. 347\\nLoganmouth, SD 05113</td>\n",
              "    </tr>\n",
              "    <tr>\n",
              "      <th>2</th>\n",
              "      <td>15600.0</td>\n",
              "      <td>36 months</td>\n",
              "      <td>10.49</td>\n",
              "      <td>506.97</td>\n",
              "      <td>B</td>\n",
              "      <td>B3</td>\n",
              "      <td>Statistician</td>\n",
              "      <td>&lt; 1 year</td>\n",
              "      <td>RENT</td>\n",
              "      <td>43057.0</td>\n",
              "      <td>...</td>\n",
              "      <td>13.0</td>\n",
              "      <td>0.0</td>\n",
              "      <td>11987.0</td>\n",
              "      <td>92.2</td>\n",
              "      <td>26.0</td>\n",
              "      <td>f</td>\n",
              "      <td>INDIVIDUAL</td>\n",
              "      <td>0.0</td>\n",
              "      <td>0.0</td>\n",
              "      <td>87025 Mark Dale Apt. 269\\nNew Sabrina, WV 05113</td>\n",
              "    </tr>\n",
              "    <tr>\n",
              "      <th>3</th>\n",
              "      <td>7200.0</td>\n",
              "      <td>36 months</td>\n",
              "      <td>6.49</td>\n",
              "      <td>220.65</td>\n",
              "      <td>A</td>\n",
              "      <td>A2</td>\n",
              "      <td>Client Advocate</td>\n",
              "      <td>6 years</td>\n",
              "      <td>RENT</td>\n",
              "      <td>54000.0</td>\n",
              "      <td>...</td>\n",
              "      <td>6.0</td>\n",
              "      <td>0.0</td>\n",
              "      <td>5472.0</td>\n",
              "      <td>21.5</td>\n",
              "      <td>13.0</td>\n",
              "      <td>f</td>\n",
              "      <td>INDIVIDUAL</td>\n",
              "      <td>0.0</td>\n",
              "      <td>0.0</td>\n",
              "      <td>823 Reid Ford\\nDelacruzside, MA 00813</td>\n",
              "    </tr>\n",
              "    <tr>\n",
              "      <th>4</th>\n",
              "      <td>24375.0</td>\n",
              "      <td>60 months</td>\n",
              "      <td>17.27</td>\n",
              "      <td>609.33</td>\n",
              "      <td>C</td>\n",
              "      <td>C5</td>\n",
              "      <td>Destiny Management Inc.</td>\n",
              "      <td>9 years</td>\n",
              "      <td>MORTGAGE</td>\n",
              "      <td>55000.0</td>\n",
              "      <td>...</td>\n",
              "      <td>13.0</td>\n",
              "      <td>0.0</td>\n",
              "      <td>24584.0</td>\n",
              "      <td>69.8</td>\n",
              "      <td>43.0</td>\n",
              "      <td>f</td>\n",
              "      <td>INDIVIDUAL</td>\n",
              "      <td>1.0</td>\n",
              "      <td>0.0</td>\n",
              "      <td>679 Luna Roads\\nGreggshire, VA 11650</td>\n",
              "    </tr>\n",
              "  </tbody>\n",
              "</table>\n",
              "<p>5 rows × 27 columns</p>\n",
              "</div>\n",
              "      <button class=\"colab-df-convert\" onclick=\"convertToInteractive('df-67e05958-5da7-42f1-865c-f1c1229da040')\"\n",
              "              title=\"Convert this dataframe to an interactive table.\"\n",
              "              style=\"display:none;\">\n",
              "        \n",
              "  <svg xmlns=\"http://www.w3.org/2000/svg\" height=\"24px\"viewBox=\"0 0 24 24\"\n",
              "       width=\"24px\">\n",
              "    <path d=\"M0 0h24v24H0V0z\" fill=\"none\"/>\n",
              "    <path d=\"M18.56 5.44l.94 2.06.94-2.06 2.06-.94-2.06-.94-.94-2.06-.94 2.06-2.06.94zm-11 1L8.5 8.5l.94-2.06 2.06-.94-2.06-.94L8.5 2.5l-.94 2.06-2.06.94zm10 10l.94 2.06.94-2.06 2.06-.94-2.06-.94-.94-2.06-.94 2.06-2.06.94z\"/><path d=\"M17.41 7.96l-1.37-1.37c-.4-.4-.92-.59-1.43-.59-.52 0-1.04.2-1.43.59L10.3 9.45l-7.72 7.72c-.78.78-.78 2.05 0 2.83L4 21.41c.39.39.9.59 1.41.59.51 0 1.02-.2 1.41-.59l7.78-7.78 2.81-2.81c.8-.78.8-2.07 0-2.86zM5.41 20L4 18.59l7.72-7.72 1.47 1.35L5.41 20z\"/>\n",
              "  </svg>\n",
              "      </button>\n",
              "      \n",
              "  <style>\n",
              "    .colab-df-container {\n",
              "      display:flex;\n",
              "      flex-wrap:wrap;\n",
              "      gap: 12px;\n",
              "    }\n",
              "\n",
              "    .colab-df-convert {\n",
              "      background-color: #E8F0FE;\n",
              "      border: none;\n",
              "      border-radius: 50%;\n",
              "      cursor: pointer;\n",
              "      display: none;\n",
              "      fill: #1967D2;\n",
              "      height: 32px;\n",
              "      padding: 0 0 0 0;\n",
              "      width: 32px;\n",
              "    }\n",
              "\n",
              "    .colab-df-convert:hover {\n",
              "      background-color: #E2EBFA;\n",
              "      box-shadow: 0px 1px 2px rgba(60, 64, 67, 0.3), 0px 1px 3px 1px rgba(60, 64, 67, 0.15);\n",
              "      fill: #174EA6;\n",
              "    }\n",
              "\n",
              "    [theme=dark] .colab-df-convert {\n",
              "      background-color: #3B4455;\n",
              "      fill: #D2E3FC;\n",
              "    }\n",
              "\n",
              "    [theme=dark] .colab-df-convert:hover {\n",
              "      background-color: #434B5C;\n",
              "      box-shadow: 0px 1px 3px 1px rgba(0, 0, 0, 0.15);\n",
              "      filter: drop-shadow(0px 1px 2px rgba(0, 0, 0, 0.3));\n",
              "      fill: #FFFFFF;\n",
              "    }\n",
              "  </style>\n",
              "\n",
              "      <script>\n",
              "        const buttonEl =\n",
              "          document.querySelector('#df-67e05958-5da7-42f1-865c-f1c1229da040 button.colab-df-convert');\n",
              "        buttonEl.style.display =\n",
              "          google.colab.kernel.accessAllowed ? 'block' : 'none';\n",
              "\n",
              "        async function convertToInteractive(key) {\n",
              "          const element = document.querySelector('#df-67e05958-5da7-42f1-865c-f1c1229da040');\n",
              "          const dataTable =\n",
              "            await google.colab.kernel.invokeFunction('convertToInteractive',\n",
              "                                                     [key], {});\n",
              "          if (!dataTable) return;\n",
              "\n",
              "          const docLinkHtml = 'Like what you see? Visit the ' +\n",
              "            '<a target=\"_blank\" href=https://colab.research.google.com/notebooks/data_table.ipynb>data table notebook</a>'\n",
              "            + ' to learn more about interactive tables.';\n",
              "          element.innerHTML = '';\n",
              "          dataTable['output_type'] = 'display_data';\n",
              "          await google.colab.output.renderOutput(dataTable, element);\n",
              "          const docLink = document.createElement('div');\n",
              "          docLink.innerHTML = docLinkHtml;\n",
              "          element.appendChild(docLink);\n",
              "        }\n",
              "      </script>\n",
              "    </div>\n",
              "  </div>\n",
              "  "
            ]
          },
          "metadata": {},
          "execution_count": 9
        }
      ]
    },
    {
      "cell_type": "markdown",
      "source": [
        "##Since we will be attempting to predict loan_status, create a countplot as shown below"
      ],
      "metadata": {
        "id": "uHoueB8c--Rr"
      }
    },
    {
      "cell_type": "code",
      "source": [
        "plt.figure(figsize=(12,6))\n",
        "sns.countplot(df['loan_status'])"
      ],
      "metadata": {
        "colab": {
          "base_uri": "https://localhost:8080/",
          "height": 461
        },
        "id": "xWERSCiO-wmv",
        "outputId": "1b156780-827d-4f5c-831c-796e023034bf"
      },
      "execution_count": 10,
      "outputs": [
        {
          "output_type": "stream",
          "name": "stderr",
          "text": [
            "/usr/local/lib/python3.7/dist-packages/seaborn/_decorators.py:43: FutureWarning: Pass the following variable as a keyword arg: x. From version 0.12, the only valid positional argument will be `data`, and passing other arguments without an explicit keyword will result in an error or misinterpretation.\n",
            "  FutureWarning\n"
          ]
        },
        {
          "output_type": "execute_result",
          "data": {
            "text/plain": [
              "<matplotlib.axes._subplots.AxesSubplot at 0x7f21761707d0>"
            ]
          },
          "metadata": {},
          "execution_count": 10
        },
        {
          "output_type": "display_data",
          "data": {
            "text/plain": [
              "<Figure size 864x432 with 1 Axes>"
            ],
            "image/png": "[encoded data removed]"
          },
          "metadata": {
            "needs_background": "light"
          }
        }
      ]
    },
    {
      "cell_type": "markdown",
      "source": [
        "## Create a histogram of the loan_amnt column"
      ],
      "metadata": {
        "id": "TTEi2SqH_Chf"
      }
    },
    {
      "cell_type": "code",
      "source": [
        "plt.figure(figsize=(12,8))\n",
        "sns.histplot(df['loan_amnt'])"
      ],
      "metadata": {
        "colab": {
          "base_uri": "https://localhost:8080/",
          "height": 515
        },
        "id": "9Bd0V257-7Ud",
        "outputId": "953e1bee-0a34-4a04-94c5-2266d426562e"
      },
      "execution_count": 11,
      "outputs": [
        {
          "output_type": "execute_result",
          "data": {
            "text/plain": [
              "<matplotlib.axes._subplots.AxesSubplot at 0x7f215df8c590>"
            ]
          },
          "metadata": {},
          "execution_count": 11
        },
        {
          "output_type": "display_data",
          "data": {
            "text/plain": [
              "<Figure size 864x576 with 1 Axes>"
            ],
            "image/png": "[encoded data removed]"
          },
          "metadata": {
            "needs_background": "light"
          }
        }
      ]
    },
    {
      "cell_type": "markdown",
      "source": [
        "### explore correlation between the continuous feature variables. Calculate the correlation between all continuous numeric variables using .corr() method"
      ],
      "metadata": {
        "id": "p0Vs--kA_T3d"
      }
    },
    {
      "cell_type": "code",
      "source": [
        "df.corr()"
      ],
      "metadata": {
        "colab": {
          "base_uri": "https://localhost:8080/",
          "height": 426
        },
        "id": "EqK-bwiX_RcH",
        "outputId": "ebc4037d-75f7-4ffe-b3ea-bc9c1aed9d8f"
      },
      "execution_count": 12,
      "outputs": [
        {
          "output_type": "execute_result",
          "data": {
            "text/plain": [
              "                      loan_amnt  int_rate  installment  annual_inc       dti  \\\n",
              "loan_amnt              1.000000  0.170467     0.953923    0.375505  0.031080   \n",
              "int_rate               0.170467  1.000000     0.163378   -0.062397  0.177582   \n",
              "installment            0.953923  0.163378     1.000000    0.370377  0.029486   \n",
              "annual_inc             0.375505 -0.062397     0.370377    1.000000 -0.197337   \n",
              "dti                    0.031080  0.177582     0.029486   -0.197337  1.000000   \n",
              "open_acc               0.191911  0.007664     0.183353    0.145658  0.299592   \n",
              "pub_rec               -0.082214  0.062998    -0.070893   -0.011788 -0.038171   \n",
              "revol_bal              0.338995 -0.006166     0.328012    0.319791  0.144570   \n",
              "revol_util             0.095420  0.295340     0.118905    0.030744  0.192860   \n",
              "total_acc              0.218950 -0.040075     0.198440    0.206973  0.225988   \n",
              "mort_acc               0.228062 -0.080948     0.199539    0.259107 -0.053699   \n",
              "pub_rec_bankruptcies  -0.109430  0.058605    -0.100752   -0.054937 -0.026990   \n",
              "\n",
              "                      open_acc   pub_rec  revol_bal  revol_util  total_acc  \\\n",
              "loan_amnt             0.191911 -0.082214   0.338995    0.095420   0.218950   \n",
              "int_rate              0.007664  0.062998  -0.006166    0.295340  -0.040075   \n",
              "installment           0.183353 -0.070893   0.328012    0.118905   0.198440   \n",
              "annual_inc            0.145658 -0.011788   0.319791    0.030744   0.206973   \n",
              "dti                   0.299592 -0.038171   0.144570    0.192860   0.225988   \n",
              "open_acc              1.000000 -0.016652   0.229479   -0.135724   0.676695   \n",
              "pub_rec              -0.016652  1.000000  -0.108342   -0.081391   0.022013   \n",
              "revol_bal             0.229479 -0.108342   1.000000    0.235384   0.198472   \n",
              "revol_util           -0.135724 -0.081391   0.235384    1.000000  -0.104370   \n",
              "total_acc             0.676695  0.022013   0.198472   -0.104370   1.000000   \n",
              "mort_acc              0.114453  0.014070   0.204739    0.014381   0.383999   \n",
              "pub_rec_bankruptcies -0.025373  0.731132  -0.128971   -0.088302   0.044356   \n",
              "\n",
              "                      mort_acc  pub_rec_bankruptcies  \n",
              "loan_amnt             0.228062             -0.109430  \n",
              "int_rate             -0.080948              0.058605  \n",
              "installment           0.199539             -0.100752  \n",
              "annual_inc            0.259107             -0.054937  \n",
              "dti                  -0.053699             -0.026990  \n",
              "open_acc              0.114453             -0.025373  \n",
              "pub_rec               0.014070              0.731132  \n",
              "revol_bal             0.204739             -0.128971  \n",
              "revol_util            0.014381             -0.088302  \n",
              "total_acc             0.383999              0.044356  \n",
              "mort_acc              1.000000              0.031525  \n",
              "pub_rec_bankruptcies  0.031525              1.000000  "
            ],
            "text/html": [
              "\n",
              "  <div id=\"df-ebb3c978-f7ff-4317-b386-235f66a333a6\">\n",
              "    <div class=\"colab-df-container\">\n",
              "      <div>\n",
              "<style scoped>\n",
              "    .dataframe tbody tr th:only-of-type {\n",
              "        vertical-align: middle;\n",
              "    }\n",
              "\n",
              "    .dataframe tbody tr th {\n",
              "        vertical-align: top;\n",
              "    }\n",
              "\n",
              "    .dataframe thead th {\n",
              "        text-align: right;\n",
              "    }\n",
              "</style>\n",
              "<table border=\"1\" class=\"dataframe\">\n",
              "  <thead>\n",
              "    <tr style=\"text-align: right;\">\n",
              "      <th></th>\n",
              "      <th>loan_amnt</th>\n",
              "      <th>int_rate</th>\n",
              "      <th>installment</th>\n",
              "      <th>annual_inc</th>\n",
              "      <th>dti</th>\n",
              "      <th>open_acc</th>\n",
              "      <th>pub_rec</th>\n",
              "      <th>revol_bal</th>\n",
              "      <th>revol_util</th>\n",
              "      <th>total_acc</th>\n",
              "      <th>mort_acc</th>\n",
              "      <th>pub_rec_bankruptcies</th>\n",
              "    </tr>\n",
              "  </thead>\n",
              "  <tbody>\n",
              "    <tr>\n",
              "      <th>loan_amnt</th>\n",
              "      <td>1.000000</td>\n",
              "      <td>0.170467</td>\n",
              "      <td>0.953923</td>\n",
              "      <td>0.375505</td>\n",
              "      <td>0.031080</td>\n",
              "      <td>0.191911</td>\n",
              "      <td>-0.082214</td>\n",
              "      <td>0.338995</td>\n",
              "      <td>0.095420</td>\n",
              "      <td>0.218950</td>\n",
              "      <td>0.228062</td>\n",
              "      <td>-0.109430</td>\n",
              "    </tr>\n",
              "    <tr>\n",
              "      <th>int_rate</th>\n",
              "      <td>0.170467</td>\n",
              "      <td>1.000000</td>\n",
              "      <td>0.163378</td>\n",
              "      <td>-0.062397</td>\n",
              "      <td>0.177582</td>\n",
              "      <td>0.007664</td>\n",
              "      <td>0.062998</td>\n",
              "      <td>-0.006166</td>\n",
              "      <td>0.295340</td>\n",
              "      <td>-0.040075</td>\n",
              "      <td>-0.080948</td>\n",
              "      <td>0.058605</td>\n",
              "    </tr>\n",
              "    <tr>\n",
              "      <th>installment</th>\n",
              "      <td>0.953923</td>\n",
              "      <td>0.163378</td>\n",
              "      <td>1.000000</td>\n",
              "      <td>0.370377</td>\n",
              "      <td>0.029486</td>\n",
              "      <td>0.183353</td>\n",
              "      <td>-0.070893</td>\n",
              "      <td>0.328012</td>\n",
              "      <td>0.118905</td>\n",
              "      <td>0.198440</td>\n",
              "      <td>0.199539</td>\n",
              "      <td>-0.100752</td>\n",
              "    </tr>\n",
              "    <tr>\n",
              "      <th>annual_inc</th>\n",
              "      <td>0.375505</td>\n",
              "      <td>-0.062397</td>\n",
              "      <td>0.370377</td>\n",
              "      <td>1.000000</td>\n",
              "      <td>-0.197337</td>\n",
              "      <td>0.145658</td>\n",
              "      <td>-0.011788</td>\n",
              "      <td>0.319791</td>\n",
              "      <td>0.030744</td>\n",
              "      <td>0.206973</td>\n",
              "      <td>0.259107</td>\n",
              "      <td>-0.054937</td>\n",
              "    </tr>\n",
              "    <tr>\n",
              "      <th>dti</th>\n",
              "      <td>0.031080</td>\n",
              "      <td>0.177582</td>\n",
              "      <td>0.029486</td>\n",
              "      <td>-0.197337</td>\n",
              "      <td>1.000000</td>\n",
              "      <td>0.299592</td>\n",
              "      <td>-0.038171</td>\n",
              "      <td>0.144570</td>\n",
              "      <td>0.192860</td>\n",
              "      <td>0.225988</td>\n",
              "      <td>-0.053699</td>\n",
              "      <td>-0.026990</td>\n",
              "    </tr>\n",
              "    <tr>\n",
              "      <th>open_acc</th>\n",
              "      <td>0.191911</td>\n",
              "      <td>0.007664</td>\n",
              "      <td>0.183353</td>\n",
              "      <td>0.145658</td>\n",
              "      <td>0.299592</td>\n",
              "      <td>1.000000</td>\n",
              "      <td>-0.016652</td>\n",
              "      <td>0.229479</td>\n",
              "      <td>-0.135724</td>\n",
              "      <td>0.676695</td>\n",
              "      <td>0.114453</td>\n",
              "      <td>-0.025373</td>\n",
              "    </tr>\n",
              "    <tr>\n",
              "      <th>pub_rec</th>\n",
              "      <td>-0.082214</td>\n",
              "      <td>0.062998</td>\n",
              "      <td>-0.070893</td>\n",
              "      <td>-0.011788</td>\n",
              "      <td>-0.038171</td>\n",
              "      <td>-0.016652</td>\n",
              "      <td>1.000000</td>\n",
              "      <td>-0.108342</td>\n",
              "      <td>-0.081391</td>\n",
              "      <td>0.022013</td>\n",
              "      <td>0.014070</td>\n",
              "      <td>0.731132</td>\n",
              "    </tr>\n",
              "    <tr>\n",
              "      <th>revol_bal</th>\n",
              "      <td>0.338995</td>\n",
              "      <td>-0.006166</td>\n",
              "      <td>0.328012</td>\n",
              "      <td>0.319791</td>\n",
              "      <td>0.144570</td>\n",
              "      <td>0.229479</td>\n",
              "      <td>-0.108342</td>\n",
              "      <td>1.000000</td>\n",
              "      <td>0.235384</td>\n",
              "      <td>0.198472</td>\n",
              "      <td>0.204739</td>\n",
              "      <td>-0.128971</td>\n",
              "    </tr>\n",
              "    <tr>\n",
              "      <th>revol_util</th>\n",
              "      <td>0.095420</td>\n",
              "      <td>0.295340</td>\n",
              "      <td>0.118905</td>\n",
              "      <td>0.030744</td>\n",
              "      <td>0.192860</td>\n",
              "      <td>-0.135724</td>\n",
              "      <td>-0.081391</td>\n",
              "      <td>0.235384</td>\n",
              "      <td>1.000000</td>\n",
              "      <td>-0.104370</td>\n",
              "      <td>0.014381</td>\n",
              "      <td>-0.088302</td>\n",
              "    </tr>\n",
              "    <tr>\n",
              "      <th>total_acc</th>\n",
              "      <td>0.218950</td>\n",
              "      <td>-0.040075</td>\n",
              "      <td>0.198440</td>\n",
              "      <td>0.206973</td>\n",
              "      <td>0.225988</td>\n",
              "      <td>0.676695</td>\n",
              "      <td>0.022013</td>\n",
              "      <td>0.198472</td>\n",
              "      <td>-0.104370</td>\n",
              "      <td>1.000000</td>\n",
              "      <td>0.383999</td>\n",
              "      <td>0.044356</td>\n",
              "    </tr>\n",
              "    <tr>\n",
              "      <th>mort_acc</th>\n",
              "      <td>0.228062</td>\n",
              "      <td>-0.080948</td>\n",
              "      <td>0.199539</td>\n",
              "      <td>0.259107</td>\n",
              "      <td>-0.053699</td>\n",
              "      <td>0.114453</td>\n",
              "      <td>0.014070</td>\n",
              "      <td>0.204739</td>\n",
              "      <td>0.014381</td>\n",
              "      <td>0.383999</td>\n",
              "      <td>1.000000</td>\n",
              "      <td>0.031525</td>\n",
              "    </tr>\n",
              "    <tr>\n",
              "      <th>pub_rec_bankruptcies</th>\n",
              "      <td>-0.109430</td>\n",
              "      <td>0.058605</td>\n",
              "      <td>-0.100752</td>\n",
              "      <td>-0.054937</td>\n",
              "      <td>-0.026990</td>\n",
              "      <td>-0.025373</td>\n",
              "      <td>0.731132</td>\n",
              "      <td>-0.128971</td>\n",
              "      <td>-0.088302</td>\n",
              "      <td>0.044356</td>\n",
              "      <td>0.031525</td>\n",
              "      <td>1.000000</td>\n",
              "    </tr>\n",
              "  </tbody>\n",
              "</table>\n",
              "</div>\n",
              "      <button class=\"colab-df-convert\" onclick=\"convertToInteractive('df-ebb3c978-f7ff-4317-b386-235f66a333a6')\"\n",
              "              title=\"Convert this dataframe to an interactive table.\"\n",
              "              style=\"display:none;\">\n",
              "        \n",
              "  <svg xmlns=\"http://www.w3.org/2000/svg\" height=\"24px\"viewBox=\"0 0 24 24\"\n",
              "       width=\"24px\">\n",
              "    <path d=\"M0 0h24v24H0V0z\" fill=\"none\"/>\n",
              "    <path d=\"M18.56 5.44l.94 2.06.94-2.06 2.06-.94-2.06-.94-.94-2.06-.94 2.06-2.06.94zm-11 1L8.5 8.5l.94-2.06 2.06-.94-2.06-.94L8.5 2.5l-.94 2.06-2.06.94zm10 10l.94 2.06.94-2.06 2.06-.94-2.06-.94-.94-2.06-.94 2.06-2.06.94z\"/><path d=\"M17.41 7.96l-1.37-1.37c-.4-.4-.92-.59-1.43-.59-.52 0-1.04.2-1.43.59L10.3 9.45l-7.72 7.72c-.78.78-.78 2.05 0 2.83L4 21.41c.39.39.9.59 1.41.59.51 0 1.02-.2 1.41-.59l7.78-7.78 2.81-2.81c.8-.78.8-2.07 0-2.86zM5.41 20L4 18.59l7.72-7.72 1.47 1.35L5.41 20z\"/>\n",
              "  </svg>\n",
              "      </button>\n",
              "      \n",
              "  <style>\n",
              "    .colab-df-container {\n",
              "      display:flex;\n",
              "      flex-wrap:wrap;\n",
              "      gap: 12px;\n",
              "    }\n",
              "\n",
              "    .colab-df-convert {\n",
              "      background-color: #E8F0FE;\n",
              "      border: none;\n",
              "      border-radius: 50%;\n",
              "      cursor: pointer;\n",
              "      display: none;\n",
              "      fill: #1967D2;\n",
              "      height: 32px;\n",
              "      padding: 0 0 0 0;\n",
              "      width: 32px;\n",
              "    }\n",
              "\n",
              "    .colab-df-convert:hover {\n",
              "      background-color: #E2EBFA;\n",
              "      box-shadow: 0px 1px 2px rgba(60, 64, 67, 0.3), 0px 1px 3px 1px rgba(60, 64, 67, 0.15);\n",
              "      fill: #174EA6;\n",
              "    }\n",
              "\n",
              "    [theme=dark] .colab-df-convert {\n",
              "      background-color: #3B4455;\n",
              "      fill: #D2E3FC;\n",
              "    }\n",
              "\n",
              "    [theme=dark] .colab-df-convert:hover {\n",
              "      background-color: #434B5C;\n",
              "      box-shadow: 0px 1px 3px 1px rgba(0, 0, 0, 0.15);\n",
              "      filter: drop-shadow(0px 1px 2px rgba(0, 0, 0, 0.3));\n",
              "      fill: #FFFFFF;\n",
              "    }\n",
              "  </style>\n",
              "\n",
              "      <script>\n",
              "        const buttonEl =\n",
              "          document.querySelector('#df-ebb3c978-f7ff-4317-b386-235f66a333a6 button.colab-df-convert');\n",
              "        buttonEl.style.display =\n",
              "          google.colab.kernel.accessAllowed ? 'block' : 'none';\n",
              "\n",
              "        async function convertToInteractive(key) {\n",
              "          const element = document.querySelector('#df-ebb3c978-f7ff-4317-b386-235f66a333a6');\n",
              "          const dataTable =\n",
              "            await google.colab.kernel.invokeFunction('convertToInteractive',\n",
              "                                                     [key], {});\n",
              "          if (!dataTable) return;\n",
              "\n",
              "          const docLinkHtml = 'Like what you see? Visit the ' +\n",
              "            '<a target=\"_blank\" href=https://colab.research.google.com/notebooks/data_table.ipynb>data table notebook</a>'\n",
              "            + ' to learn more about interactive tables.';\n",
              "          element.innerHTML = '';\n",
              "          dataTable['output_type'] = 'display_data';\n",
              "          await google.colab.output.renderOutput(dataTable, element);\n",
              "          const docLink = document.createElement('div');\n",
              "          docLink.innerHTML = docLinkHtml;\n",
              "          element.appendChild(docLink);\n",
              "        }\n",
              "      </script>\n",
              "    </div>\n",
              "  </div>\n",
              "  "
            ]
          },
          "metadata": {},
          "execution_count": 12
        }
      ]
    },
    {
      "cell_type": "markdown",
      "source": [
        "### Visualize this using a heatmap. Depending on your version of matplotlib, you may need to manually adjust the heatmap."
      ],
      "metadata": {
        "id": "Ua8xVzOH_Yqq"
      }
    },
    {
      "cell_type": "code",
      "source": [
        "plt.figure(figsize=(12,8))\n",
        "sns.heatmap(df.corr(),annot=True, cmap='viridis')\n",
        "plt.ylim(10,0)"
      ],
      "metadata": {
        "colab": {
          "base_uri": "https://localhost:8080/",
          "height": 603
        },
        "id": "l3RDFriL_Xti",
        "outputId": "f9a75639-f1e4-474a-c921-485ffdf33939"
      },
      "execution_count": 13,
      "outputs": [
        {
          "output_type": "execute_result",
          "data": {
            "text/plain": [
              "(10.0, 0.0)"
            ]
          },
          "metadata": {},
          "execution_count": 13
        },
        {
          "output_type": "display_data",
          "data": {
            "text/plain": [
              "<Figure size 864x576 with 2 Axes>"
            ],
            "image/png": "[encoded data removed]"
          },
          "metadata": {
            "needs_background": "light"
          }
        }
      ]
    },
    {
      "cell_type": "markdown",
      "source": [
        "You should have noticed almost perfect correlation with the \"installment\" feature. Explore this feature further. Print out their descriptions and perform a scatterplot between them. Does this relationship make sense to you? Do you think there is duplicate information here?"
      ],
      "metadata": {
        "id": "irJyGbh5_yze"
      }
    },
    {
      "cell_type": "code",
      "source": [
        "feat_info('installment')"
      ],
      "metadata": {
        "colab": {
          "base_uri": "https://localhost:8080/"
        },
        "id": "43_ufu3W_pBY",
        "outputId": "7fad7018-2aee-4a2b-9d21-3dbbea54126c"
      },
      "execution_count": 14,
      "outputs": [
        {
          "output_type": "stream",
          "name": "stdout",
          "text": [
            "The monthly payment owed by the borrower if the loan originates.\n"
          ]
        }
      ]
    },
    {
      "cell_type": "code",
      "source": [
        "feat_info('loan_amnt')"
      ],
      "metadata": {
        "colab": {
          "base_uri": "https://localhost:8080/"
        },
        "id": "WjjnXqwD_3YQ",
        "outputId": "cf46e351-9726-4775-a072-9c163ba7acd0"
      },
      "execution_count": 15,
      "outputs": [
        {
          "output_type": "stream",
          "name": "stdout",
          "text": [
            "The listed amount of the loan applied for by the borrower. If at some point in time, the credit department reduces the loan amount, then it will be reflected in this value.\n"
          ]
        }
      ]
    },
    {
      "cell_type": "code",
      "source": [
        "sns.scatterplot(data=df,x='installment',y='loan_amnt')"
      ],
      "metadata": {
        "colab": {
          "base_uri": "https://localhost:8080/",
          "height": 296
        },
        "id": "w5cfjZgu_5_9",
        "outputId": "890e010c-e25f-43eb-9e13-ed16d5aa508b"
      },
      "execution_count": 16,
      "outputs": [
        {
          "output_type": "execute_result",
          "data": {
            "text/plain": [
              "<matplotlib.axes._subplots.AxesSubplot at 0x7f215af51e10>"
            ]
          },
          "metadata": {},
          "execution_count": 16
        },
        {
          "output_type": "display_data",
          "data": {
            "text/plain": [
              "<Figure size 432x288 with 1 Axes>"
            ],
            "image/png": "[encoded data removed]"
          },
          "metadata": {
            "needs_background": "light"
          }
        }
      ]
    },
    {
      "cell_type": "markdown",
      "source": [
        "### Create a boxplot showing the relationship between the loan_status and the Loan Amount."
      ],
      "metadata": {
        "id": "B1Cfn79xAE6X"
      }
    },
    {
      "cell_type": "code",
      "source": [
        "sns.boxplot(data=df,x='loan_status',y='loan_amnt')"
      ],
      "metadata": {
        "colab": {
          "base_uri": "https://localhost:8080/",
          "height": 297
        },
        "id": "fFdD68KBACQr",
        "outputId": "62206c7f-3506-424b-fdde-e01bc469c99f"
      },
      "execution_count": 17,
      "outputs": [
        {
          "output_type": "execute_result",
          "data": {
            "text/plain": [
              "<matplotlib.axes._subplots.AxesSubplot at 0x7f21596ac750>"
            ]
          },
          "metadata": {},
          "execution_count": 17
        },
        {
          "output_type": "display_data",
          "data": {
            "text/plain": [
              "<Figure size 432x288 with 1 Axes>"
            ],
            "image/png": "[encoded data removed]"
          },
          "metadata": {
            "needs_background": "light"
          }
        }
      ]
    },
    {
      "cell_type": "markdown",
      "source": [
        "### Calculate the summary statistics for the loan amount, grouped by the loan_status."
      ],
      "metadata": {
        "id": "cdeTqNpqAPmd"
      }
    },
    {
      "cell_type": "code",
      "source": [
        "df.groupby('loan_status')['loan_amnt'].describe()"
      ],
      "metadata": {
        "id": "FxPAYK4SANlD",
        "colab": {
          "base_uri": "https://localhost:8080/",
          "height": 143
        },
        "outputId": "a92d2654-4d88-4bcd-ca07-8c5f424894d5"
      },
      "execution_count": 18,
      "outputs": [
        {
          "output_type": "execute_result",
          "data": {
            "text/plain": [
              "               count          mean          std     min     25%      50%  \\\n",
              "loan_status                                                                \n",
              "Charged Off  12957.0  15071.648530  8509.315923  1000.0  8400.0  14000.0   \n",
              "Fully Paid   53508.0  13863.763362  8312.921781   500.0  7500.0  12000.0   \n",
              "\n",
              "                 75%      max  \n",
              "loan_status                    \n",
              "Charged Off  20000.0  40000.0  \n",
              "Fully Paid   19300.0  40000.0  "
            ],
            "text/html": [
              "\n",
              "  <div id=\"df-9391710c-a77d-4926-ae59-8c6091c0a576\">\n",
              "    <div class=\"colab-df-container\">\n",
              "      <div>\n",
              "<style scoped>\n",
              "    .dataframe tbody tr th:only-of-type {\n",
              "        vertical-align: middle;\n",
              "    }\n",
              "\n",
              "    .dataframe tbody tr th {\n",
              "        vertical-align: top;\n",
              "    }\n",
              "\n",
              "    .dataframe thead th {\n",
              "        text-align: right;\n",
              "    }\n",
              "</style>\n",
              "<table border=\"1\" class=\"dataframe\">\n",
              "  <thead>\n",
              "    <tr style=\"text-align: right;\">\n",
              "      <th></th>\n",
              "      <th>count</th>\n",
              "      <th>mean</th>\n",
              "      <th>std</th>\n",
              "      <th>min</th>\n",
              "      <th>25%</th>\n",
              "      <th>50%</th>\n",
              "      <th>75%</th>\n",
              "      <th>max</th>\n",
              "    </tr>\n",
              "    <tr>\n",
              "      <th>loan_status</th>\n",
              "      <th></th>\n",
              "      <th></th>\n",
              "      <th></th>\n",
              "      <th></th>\n",
              "      <th></th>\n",
              "      <th></th>\n",
              "      <th></th>\n",
              "      <th></th>\n",
              "    </tr>\n",
              "  </thead>\n",
              "  <tbody>\n",
              "    <tr>\n",
              "      <th>Charged Off</th>\n",
              "      <td>12957.0</td>\n",
              "      <td>15071.648530</td>\n",
              "      <td>8509.315923</td>\n",
              "      <td>1000.0</td>\n",
              "      <td>8400.0</td>\n",
              "      <td>14000.0</td>\n",
              "      <td>20000.0</td>\n",
              "      <td>40000.0</td>\n",
              "    </tr>\n",
              "    <tr>\n",
              "      <th>Fully Paid</th>\n",
              "      <td>53508.0</td>\n",
              "      <td>13863.763362</td>\n",
              "      <td>8312.921781</td>\n",
              "      <td>500.0</td>\n",
              "      <td>7500.0</td>\n",
              "      <td>12000.0</td>\n",
              "      <td>19300.0</td>\n",
              "      <td>40000.0</td>\n",
              "    </tr>\n",
              "  </tbody>\n",
              "</table>\n",
              "</div>\n",
              "      <button class=\"colab-df-convert\" onclick=\"convertToInteractive('df-9391710c-a77d-4926-ae59-8c6091c0a576')\"\n",
              "              title=\"Convert this dataframe to an interactive table.\"\n",
              "              style=\"display:none;\">\n",
              "        \n",
              "  <svg xmlns=\"http://www.w3.org/2000/svg\" height=\"24px\"viewBox=\"0 0 24 24\"\n",
              "       width=\"24px\">\n",
              "    <path d=\"M0 0h24v24H0V0z\" fill=\"none\"/>\n",
              "    <path d=\"M18.56 5.44l.94 2.06.94-2.06 2.06-.94-2.06-.94-.94-2.06-.94 2.06-2.06.94zm-11 1L8.5 8.5l.94-2.06 2.06-.94-2.06-.94L8.5 2.5l-.94 2.06-2.06.94zm10 10l.94 2.06.94-2.06 2.06-.94-2.06-.94-.94-2.06-.94 2.06-2.06.94z\"/><path d=\"M17.41 7.96l-1.37-1.37c-.4-.4-.92-.59-1.43-.59-.52 0-1.04.2-1.43.59L10.3 9.45l-7.72 7.72c-.78.78-.78 2.05 0 2.83L4 21.41c.39.39.9.59 1.41.59.51 0 1.02-.2 1.41-.59l7.78-7.78 2.81-2.81c.8-.78.8-2.07 0-2.86zM5.41 20L4 18.59l7.72-7.72 1.47 1.35L5.41 20z\"/>\n",
              "  </svg>\n",
              "      </button>\n",
              "      \n",
              "  <style>\n",
              "    .colab-df-container {\n",
              "      display:flex;\n",
              "      flex-wrap:wrap;\n",
              "      gap: 12px;\n",
              "    }\n",
              "\n",
              "    .colab-df-convert {\n",
              "      background-color: #E8F0FE;\n",
              "      border: none;\n",
              "      border-radius: 50%;\n",
              "      cursor: pointer;\n",
              "      display: none;\n",
              "      fill: #1967D2;\n",
              "      height: 32px;\n",
              "      padding: 0 0 0 0;\n",
              "      width: 32px;\n",
              "    }\n",
              "\n",
              "    .colab-df-convert:hover {\n",
              "      background-color: #E2EBFA;\n",
              "      box-shadow: 0px 1px 2px rgba(60, 64, 67, 0.3), 0px 1px 3px 1px rgba(60, 64, 67, 0.15);\n",
              "      fill: #174EA6;\n",
              "    }\n",
              "\n",
              "    [theme=dark] .colab-df-convert {\n",
              "      background-color: #3B4455;\n",
              "      fill: #D2E3FC;\n",
              "    }\n",
              "\n",
              "    [theme=dark] .colab-df-convert:hover {\n",
              "      background-color: #434B5C;\n",
              "      box-shadow: 0px 1px 3px 1px rgba(0, 0, 0, 0.15);\n",
              "      filter: drop-shadow(0px 1px 2px rgba(0, 0, 0, 0.3));\n",
              "      fill: #FFFFFF;\n",
              "    }\n",
              "  </style>\n",
              "\n",
              "      <script>\n",
              "        const buttonEl =\n",
              "          document.querySelector('#df-9391710c-a77d-4926-ae59-8c6091c0a576 button.colab-df-convert');\n",
              "        buttonEl.style.display =\n",
              "          google.colab.kernel.accessAllowed ? 'block' : 'none';\n",
              "\n",
              "        async function convertToInteractive(key) {\n",
              "          const element = document.querySelector('#df-9391710c-a77d-4926-ae59-8c6091c0a576');\n",
              "          const dataTable =\n",
              "            await google.colab.kernel.invokeFunction('convertToInteractive',\n",
              "                                                     [key], {});\n",
              "          if (!dataTable) return;\n",
              "\n",
              "          const docLinkHtml = 'Like what you see? Visit the ' +\n",
              "            '<a target=\"_blank\" href=https://colab.research.google.com/notebooks/data_table.ipynb>data table notebook</a>'\n",
              "            + ' to learn more about interactive tables.';\n",
              "          element.innerHTML = '';\n",
              "          dataTable['output_type'] = 'display_data';\n",
              "          await google.colab.output.renderOutput(dataTable, element);\n",
              "          const docLink = document.createElement('div');\n",
              "          docLink.innerHTML = docLinkHtml;\n",
              "          element.appendChild(docLink);\n",
              "        }\n",
              "      </script>\n",
              "    </div>\n",
              "  </div>\n",
              "  "
            ]
          },
          "metadata": {},
          "execution_count": 18
        }
      ]
    },
    {
      "cell_type": "markdown",
      "source": [
        "Let's explore the Grade and SubGrade columns that LendingClub attributes to the loans. What are the unique possible grades and subgrades?"
      ],
      "metadata": {
        "id": "lJvp4MqaCKPG"
      }
    },
    {
      "cell_type": "code",
      "source": [
        "sorted(df['grade'].apply(str).unique())"
      ],
      "metadata": {
        "id": "vN1Fc6PvAW6H",
        "colab": {
          "base_uri": "https://localhost:8080/"
        },
        "outputId": "b97a38d9-7a6c-43e2-a0b6-423f82736c3e"
      },
      "execution_count": 19,
      "outputs": [
        {
          "output_type": "execute_result",
          "data": {
            "text/plain": [
              "['A', 'B', 'C', 'D', 'E', 'F', 'G']"
            ]
          },
          "metadata": {},
          "execution_count": 19
        }
      ]
    },
    {
      "cell_type": "code",
      "source": [
        "sorted(df['sub_grade'].apply(str).unique())"
      ],
      "metadata": {
        "colab": {
          "base_uri": "https://localhost:8080/"
        },
        "id": "AVECOQ12CQ1G",
        "outputId": "6a4b0f3d-6f7e-4319-9c0c-098643b9d1cd"
      },
      "execution_count": 20,
      "outputs": [
        {
          "output_type": "execute_result",
          "data": {
            "text/plain": [
              "['A1',\n",
              " 'A2',\n",
              " 'A3',\n",
              " 'A4',\n",
              " 'A5',\n",
              " 'B1',\n",
              " 'B2',\n",
              " 'B3',\n",
              " 'B4',\n",
              " 'B5',\n",
              " 'C1',\n",
              " 'C2',\n",
              " 'C3',\n",
              " 'C4',\n",
              " 'C5',\n",
              " 'D1',\n",
              " 'D2',\n",
              " 'D3',\n",
              " 'D4',\n",
              " 'D5',\n",
              " 'E1',\n",
              " 'E2',\n",
              " 'E3',\n",
              " 'E4',\n",
              " 'E5',\n",
              " 'F1',\n",
              " 'F2',\n",
              " 'F3',\n",
              " 'F4',\n",
              " 'F5',\n",
              " 'G1',\n",
              " 'G2',\n",
              " 'G3',\n",
              " 'G4',\n",
              " 'G5']"
            ]
          },
          "metadata": {},
          "execution_count": 20
        }
      ]
    },
    {
      "cell_type": "markdown",
      "source": [
        "Create a countplot per grade. Set the hue to the loan_status label"
      ],
      "metadata": {
        "id": "ttFQyyWBCioB"
      }
    },
    {
      "cell_type": "code",
      "source": [
        "sns.countplot(x='grade',data=df,hue='loan_status')"
      ],
      "metadata": {
        "colab": {
          "base_uri": "https://localhost:8080/",
          "height": 296
        },
        "id": "yIUkNPyyCbV-",
        "outputId": "b81d13b2-eb3b-4f2c-99c2-889bfa7fd33b"
      },
      "execution_count": 21,
      "outputs": [
        {
          "output_type": "execute_result",
          "data": {
            "text/plain": [
              "<matplotlib.axes._subplots.AxesSubplot at 0x7f215afa1cd0>"
            ]
          },
          "metadata": {},
          "execution_count": 21
        },
        {
          "output_type": "display_data",
          "data": {
            "text/plain": [
              "<Figure size 432x288 with 1 Axes>"
            ],
            "image/png": "[encoded data removed]"
          },
          "metadata": {
            "needs_background": "light"
          }
        }
      ]
    },
    {
      "cell_type": "markdown",
      "source": [
        "Display a count plot per subgrade. You may need to resize for this plot and reorder the x axis. Feel free to edit the color palette. Explore both all loans made per subgrade as well being separated based on the loan_status"
      ],
      "metadata": {
        "id": "3SScm898CsQK"
      }
    },
    {
      "cell_type": "code",
      "source": [
        "plt.figure(figsize=(12,4))\n",
        "subgrade_order=sorted(df['sub_grade'].apply(str).unique())\n",
        "sns.countplot(data=df,x='sub_grade',order= subgrade_order,palette='coolwarm')"
      ],
      "metadata": {
        "colab": {
          "base_uri": "https://localhost:8080/",
          "height": 297
        },
        "id": "kSca_go_CqHA",
        "outputId": "cb0cca9a-fba8-4c27-8cf5-581657f33c8e"
      },
      "execution_count": 22,
      "outputs": [
        {
          "output_type": "execute_result",
          "data": {
            "text/plain": [
              "<matplotlib.axes._subplots.AxesSubplot at 0x7f2159645190>"
            ]
          },
          "metadata": {},
          "execution_count": 22
        },
        {
          "output_type": "display_data",
          "data": {
            "text/plain": [
              "<Figure size 864x288 with 1 Axes>"
            ],
            "image/png": "[encoded data removed]"
          },
          "metadata": {
            "needs_background": "light"
          }
        }
      ]
    },
    {
      "cell_type": "code",
      "source": [
        "plt.figure(figsize=(12,4))\n",
        "subgrade_order=sorted(df['sub_grade'].apply(str).unique())\n",
        "sns.countplot(x='sub_grade',data=df,order=subgrade_order,palette='coolwarm',hue='loan_status')"
      ],
      "metadata": {
        "colab": {
          "base_uri": "https://localhost:8080/",
          "height": 297
        },
        "id": "xNYv4WQ8DDvt",
        "outputId": "ca893f16-26dd-4d7f-9177-40dc833b7f6f"
      },
      "execution_count": 23,
      "outputs": [
        {
          "output_type": "execute_result",
          "data": {
            "text/plain": [
              "<matplotlib.axes._subplots.AxesSubplot at 0x7f215db22c50>"
            ]
          },
          "metadata": {},
          "execution_count": 23
        },
        {
          "output_type": "display_data",
          "data": {
            "text/plain": [
              "<Figure size 864x288 with 1 Axes>"
            ],
            "image/png": "[encoded data removed]"
          },
          "metadata": {
            "needs_background": "light"
          }
        }
      ]
    },
    {
      "cell_type": "markdown",
      "source": [
        "It looks like F and G subgrades don't get paid back that often. Isloate those and recreate the countplot just for those subgrades."
      ],
      "metadata": {
        "id": "qSmnwPDVEYjA"
      }
    },
    {
      "cell_type": "code",
      "source": [
        "f_and_g = df[(df['grade']=='G')|(df['grade']=='F')]\n",
        "plt.figure(figsize=(12,8))\n",
        "subgrade_order=sorted(f_and_g['sub_grade'].apply(str).unique())\n",
        "sns.countplot(data=f_and_g,x='sub_grade',order=subgrade_order,hue='loan_status')"
      ],
      "metadata": {
        "colab": {
          "base_uri": "https://localhost:8080/",
          "height": 515
        },
        "id": "9pbUDubMEVLR",
        "outputId": "8f35f2b4-f844-457f-cb46-066b5b9e65ec"
      },
      "execution_count": 24,
      "outputs": [
        {
          "output_type": "execute_result",
          "data": {
            "text/plain": [
              "<matplotlib.axes._subplots.AxesSubplot at 0x7f2159609a50>"
            ]
          },
          "metadata": {},
          "execution_count": 24
        },
        {
          "output_type": "display_data",
          "data": {
            "text/plain": [
              "<Figure size 864x576 with 1 Axes>"
            ],
            "image/png": "[encoded data removed]"
          },
          "metadata": {
            "needs_background": "light"
          }
        }
      ]
    },
    {
      "cell_type": "markdown",
      "source": [
        "Create a new column called 'load_repaid' which will contain a 1 if the loan status was \"Fully Paid\" and a 0 if it was \"Charged Off"
      ],
      "metadata": {
        "id": "UkboQ_YKFFts"
      }
    },
    {
      "cell_type": "code",
      "source": [
        "df['loan_status'].apply(str).unique()"
      ],
      "metadata": {
        "colab": {
          "base_uri": "https://localhost:8080/"
        },
        "id": "gjEUeQykFCSt",
        "outputId": "426a73c1-44e8-402e-f5b7-1b4c8cd02bd7"
      },
      "execution_count": 25,
      "outputs": [
        {
          "output_type": "execute_result",
          "data": {
            "text/plain": [
              "array(['Fully Paid', 'Charged Off', 'nan'], dtype=object)"
            ]
          },
          "metadata": {},
          "execution_count": 25
        }
      ]
    },
    {
      "cell_type": "code",
      "source": [
        "df['loan_repaid']= df['loan_status'].map({'Fully Paid':1,'Charged Off':0})"
      ],
      "metadata": {
        "id": "XGuEwBsDFMdf"
      },
      "execution_count": 26,
      "outputs": []
    },
    {
      "cell_type": "code",
      "source": [
        "df[['loan_repaid','loan_status']]"
      ],
      "metadata": {
        "colab": {
          "base_uri": "https://localhost:8080/",
          "height": 424
        },
        "id": "bmelu8LbNrDz",
        "outputId": "8b00e234-c8c7-4a21-f24f-f9b908f02e06"
      },
      "execution_count": 27,
      "outputs": [
        {
          "output_type": "execute_result",
          "data": {
            "text/plain": [
              "       loan_repaid  loan_status\n",
              "0              1.0   Fully Paid\n",
              "1              1.0   Fully Paid\n",
              "2              1.0   Fully Paid\n",
              "3              1.0   Fully Paid\n",
              "4              0.0  Charged Off\n",
              "...            ...          ...\n",
              "66461          1.0   Fully Paid\n",
              "66462          0.0  Charged Off\n",
              "66463          0.0  Charged Off\n",
              "66464          1.0   Fully Paid\n",
              "66465          NaN          NaN\n",
              "\n",
              "[66466 rows x 2 columns]"
            ],
            "text/html": [
              "\n",
              "  <div id=\"df-89c37f82-cdbe-4fb1-a50e-3daa66e4608f\">\n",
              "    <div class=\"colab-df-container\">\n",
              "      <div>\n",
              "<style scoped>\n",
              "    .dataframe tbody tr th:only-of-type {\n",
              "        vertical-align: middle;\n",
              "    }\n",
              "\n",
              "    .dataframe tbody tr th {\n",
              "        vertical-align: top;\n",
              "    }\n",
              "\n",
              "    .dataframe thead th {\n",
              "        text-align: right;\n",
              "    }\n",
              "</style>\n",
              "<table border=\"1\" class=\"dataframe\">\n",
              "  <thead>\n",
              "    <tr style=\"text-align: right;\">\n",
              "      <th></th>\n",
              "      <th>loan_repaid</th>\n",
              "      <th>loan_status</th>\n",
              "    </tr>\n",
              "  </thead>\n",
              "  <tbody>\n",
              "    <tr>\n",
              "      <th>0</th>\n",
              "      <td>1.0</td>\n",
              "      <td>Fully Paid</td>\n",
              "    </tr>\n",
              "    <tr>\n",
              "      <th>1</th>\n",
              "      <td>1.0</td>\n",
              "      <td>Fully Paid</td>\n",
              "    </tr>\n",
              "    <tr>\n",
              "      <th>2</th>\n",
              "      <td>1.0</td>\n",
              "      <td>Fully Paid</td>\n",
              "    </tr>\n",
              "    <tr>\n",
              "      <th>3</th>\n",
              "      <td>1.0</td>\n",
              "      <td>Fully Paid</td>\n",
              "    </tr>\n",
              "    <tr>\n",
              "      <th>4</th>\n",
              "      <td>0.0</td>\n",
              "      <td>Charged Off</td>\n",
              "    </tr>\n",
              "    <tr>\n",
              "      <th>...</th>\n",
              "      <td>...</td>\n",
              "      <td>...</td>\n",
              "    </tr>\n",
              "    <tr>\n",
              "      <th>66461</th>\n",
              "      <td>1.0</td>\n",
              "      <td>Fully Paid</td>\n",
              "    </tr>\n",
              "    <tr>\n",
              "      <th>66462</th>\n",
              "      <td>0.0</td>\n",
              "      <td>Charged Off</td>\n",
              "    </tr>\n",
              "    <tr>\n",
              "      <th>66463</th>\n",
              "      <td>0.0</td>\n",
              "      <td>Charged Off</td>\n",
              "    </tr>\n",
              "    <tr>\n",
              "      <th>66464</th>\n",
              "      <td>1.0</td>\n",
              "      <td>Fully Paid</td>\n",
              "    </tr>\n",
              "    <tr>\n",
              "      <th>66465</th>\n",
              "      <td>NaN</td>\n",
              "      <td>NaN</td>\n",
              "    </tr>\n",
              "  </tbody>\n",
              "</table>\n",
              "<p>66466 rows × 2 columns</p>\n",
              "</div>\n",
              "      <button class=\"colab-df-convert\" onclick=\"convertToInteractive('df-89c37f82-cdbe-4fb1-a50e-3daa66e4608f')\"\n",
              "              title=\"Convert this dataframe to an interactive table.\"\n",
              "              style=\"display:none;\">\n",
              "        \n",
              "  <svg xmlns=\"http://www.w3.org/2000/svg\" height=\"24px\"viewBox=\"0 0 24 24\"\n",
              "       width=\"24px\">\n",
              "    <path d=\"M0 0h24v24H0V0z\" fill=\"none\"/>\n",
              "    <path d=\"M18.56 5.44l.94 2.06.94-2.06 2.06-.94-2.06-.94-.94-2.06-.94 2.06-2.06.94zm-11 1L8.5 8.5l.94-2.06 2.06-.94-2.06-.94L8.5 2.5l-.94 2.06-2.06.94zm10 10l.94 2.06.94-2.06 2.06-.94-2.06-.94-.94-2.06-.94 2.06-2.06.94z\"/><path d=\"M17.41 7.96l-1.37-1.37c-.4-.4-.92-.59-1.43-.59-.52 0-1.04.2-1.43.59L10.3 9.45l-7.72 7.72c-.78.78-.78 2.05 0 2.83L4 21.41c.39.39.9.59 1.41.59.51 0 1.02-.2 1.41-.59l7.78-7.78 2.81-2.81c.8-.78.8-2.07 0-2.86zM5.41 20L4 18.59l7.72-7.72 1.47 1.35L5.41 20z\"/>\n",
              "  </svg>\n",
              "      </button>\n",
              "      \n",
              "  <style>\n",
              "    .colab-df-container {\n",
              "      display:flex;\n",
              "      flex-wrap:wrap;\n",
              "      gap: 12px;\n",
              "    }\n",
              "\n",
              "    .colab-df-convert {\n",
              "      background-color: #E8F0FE;\n",
              "      border: none;\n",
              "      border-radius: 50%;\n",
              "      cursor: pointer;\n",
              "      display: none;\n",
              "      fill: #1967D2;\n",
              "      height: 32px;\n",
              "      padding: 0 0 0 0;\n",
              "      width: 32px;\n",
              "    }\n",
              "\n",
              "    .colab-df-convert:hover {\n",
              "      background-color: #E2EBFA;\n",
              "      box-shadow: 0px 1px 2px rgba(60, 64, 67, 0.3), 0px 1px 3px 1px rgba(60, 64, 67, 0.15);\n",
              "      fill: #174EA6;\n",
              "    }\n",
              "\n",
              "    [theme=dark] .colab-df-convert {\n",
              "      background-color: #3B4455;\n",
              "      fill: #D2E3FC;\n",
              "    }\n",
              "\n",
              "    [theme=dark] .colab-df-convert:hover {\n",
              "      background-color: #434B5C;\n",
              "      box-shadow: 0px 1px 3px 1px rgba(0, 0, 0, 0.15);\n",
              "      filter: drop-shadow(0px 1px 2px rgba(0, 0, 0, 0.3));\n",
              "      fill: #FFFFFF;\n",
              "    }\n",
              "  </style>\n",
              "\n",
              "      <script>\n",
              "        const buttonEl =\n",
              "          document.querySelector('#df-89c37f82-cdbe-4fb1-a50e-3daa66e4608f button.colab-df-convert');\n",
              "        buttonEl.style.display =\n",
              "          google.colab.kernel.accessAllowed ? 'block' : 'none';\n",
              "\n",
              "        async function convertToInteractive(key) {\n",
              "          const element = document.querySelector('#df-89c37f82-cdbe-4fb1-a50e-3daa66e4608f');\n",
              "          const dataTable =\n",
              "            await google.colab.kernel.invokeFunction('convertToInteractive',\n",
              "                                                     [key], {});\n",
              "          if (!dataTable) return;\n",
              "\n",
              "          const docLinkHtml = 'Like what you see? Visit the ' +\n",
              "            '<a target=\"_blank\" href=https://colab.research.google.com/notebooks/data_table.ipynb>data table notebook</a>'\n",
              "            + ' to learn more about interactive tables.';\n",
              "          element.innerHTML = '';\n",
              "          dataTable['output_type'] = 'display_data';\n",
              "          await google.colab.output.renderOutput(dataTable, element);\n",
              "          const docLink = document.createElement('div');\n",
              "          docLink.innerHTML = docLinkHtml;\n",
              "          element.appendChild(docLink);\n",
              "        }\n",
              "      </script>\n",
              "    </div>\n",
              "  </div>\n",
              "  "
            ]
          },
          "metadata": {},
          "execution_count": 27
        }
      ]
    },
    {
      "cell_type": "markdown",
      "source": [
        "Create a bar plot showing the correlation of the numeric features to the new loan_repaid column."
      ],
      "metadata": {
        "id": "PPO6Ca3ikze_"
      }
    },
    {
      "cell_type": "code",
      "source": [
        "df.corr()['loan_repaid'].sort_values().drop('loan_repaid').plot(kind='bar')"
      ],
      "metadata": {
        "colab": {
          "base_uri": "https://localhost:8080/",
          "height": 382
        },
        "id": "5ja4uRYYSojb",
        "outputId": "07954ed3-9b6a-4841-8aa8-4581d99dbee5"
      },
      "execution_count": 28,
      "outputs": [
        {
          "output_type": "execute_result",
          "data": {
            "text/plain": [
              "<matplotlib.axes._subplots.AxesSubplot at 0x7f21594074d0>"
            ]
          },
          "metadata": {},
          "execution_count": 28
        },
        {
          "output_type": "display_data",
          "data": {
            "text/plain": [
              "<Figure size 432x288 with 1 Axes>"
            ],
            "image/png": "[encoded data removed]"
          },
          "metadata": {
            "needs_background": "light"
          }
        }
      ]
    },
    {
      "cell_type": "markdown",
      "source": [
        "###Data PreProcessing"
      ],
      "metadata": {
        "id": "9PJmgmt6lKSL"
      }
    },
    {
      "cell_type": "markdown",
      "source": [
        "Remove or fill any missing data. Remove unnecessary or repetitive features. Convert categorical string features to dummy variables"
      ],
      "metadata": {
        "id": "Me2rJQpylXdG"
      }
    },
    {
      "cell_type": "code",
      "source": [
        "df.head()"
      ],
      "metadata": {
        "colab": {
          "base_uri": "https://localhost:8080/",
          "height": 473
        },
        "id": "XZQIs--oX0w6",
        "outputId": "841880d3-ef55-4cb0-af87-cbee32d7ee51"
      },
      "execution_count": 29,
      "outputs": [
        {
          "output_type": "execute_result",
          "data": {
            "text/plain": [
              "   loan_amnt        term  int_rate  installment grade sub_grade  \\\n",
              "0    10000.0   36 months     11.44       329.48     B        B4   \n",
              "1     8000.0   36 months     11.99       265.68     B        B5   \n",
              "2    15600.0   36 months     10.49       506.97     B        B3   \n",
              "3     7200.0   36 months      6.49       220.65     A        A2   \n",
              "4    24375.0   60 months     17.27       609.33     C        C5   \n",
              "\n",
              "                 emp_title emp_length home_ownership  annual_inc  ... pub_rec  \\\n",
              "0                Marketing  10+ years           RENT    117000.0  ...     0.0   \n",
              "1          Credit analyst     4 years       MORTGAGE     65000.0  ...     0.0   \n",
              "2             Statistician   < 1 year           RENT     43057.0  ...     0.0   \n",
              "3          Client Advocate    6 years           RENT     54000.0  ...     0.0   \n",
              "4  Destiny Management Inc.    9 years       MORTGAGE     55000.0  ...     0.0   \n",
              "\n",
              "  revol_bal revol_util total_acc initial_list_status  application_type  \\\n",
              "0   36369.0       41.8      25.0                   w        INDIVIDUAL   \n",
              "1   20131.0       53.3      27.0                   f        INDIVIDUAL   \n",
              "2   11987.0       92.2      26.0                   f        INDIVIDUAL   \n",
              "3    5472.0       21.5      13.0                   f        INDIVIDUAL   \n",
              "4   24584.0       69.8      43.0                   f        INDIVIDUAL   \n",
              "\n",
              "  mort_acc  pub_rec_bankruptcies  \\\n",
              "0      0.0                   0.0   \n",
              "1      3.0                   0.0   \n",
              "2      0.0                   0.0   \n",
              "3      0.0                   0.0   \n",
              "4      1.0                   0.0   \n",
              "\n",
              "                                           address  loan_repaid  \n",
              "0     0174 Michelle Gateway\\nMendozaberg, OK 22690          1.0  \n",
              "1  1076 Carney Fort Apt. 347\\nLoganmouth, SD 05113          1.0  \n",
              "2  87025 Mark Dale Apt. 269\\nNew Sabrina, WV 05113          1.0  \n",
              "3            823 Reid Ford\\nDelacruzside, MA 00813          1.0  \n",
              "4             679 Luna Roads\\nGreggshire, VA 11650          0.0  \n",
              "\n",
              "[5 rows x 28 columns]"
            ],
            "text/html": [
              "\n",
              "  <div id=\"df-53e32dd5-3432-4636-b3fb-2a1a3778ea47\">\n",
              "    <div class=\"colab-df-container\">\n",
              "      <div>\n",
              "<style scoped>\n",
              "    .dataframe tbody tr th:only-of-type {\n",
              "        vertical-align: middle;\n",
              "    }\n",
              "\n",
              "    .dataframe tbody tr th {\n",
              "        vertical-align: top;\n",
              "    }\n",
              "\n",
              "    .dataframe thead th {\n",
              "        text-align: right;\n",
              "    }\n",
              "</style>\n",
              "<table border=\"1\" class=\"dataframe\">\n",
              "  <thead>\n",
              "    <tr style=\"text-align: right;\">\n",
              "      <th></th>\n",
              "      <th>loan_amnt</th>\n",
              "      <th>term</th>\n",
              "      <th>int_rate</th>\n",
              "      <th>installment</th>\n",
              "      <th>grade</th>\n",
              "      <th>sub_grade</th>\n",
              "      <th>emp_title</th>\n",
              "      <th>emp_length</th>\n",
              "      <th>home_ownership</th>\n",
              "      <th>annual_inc</th>\n",
              "      <th>...</th>\n",
              "      <th>pub_rec</th>\n",
              "      <th>revol_bal</th>\n",
              "      <th>revol_util</th>\n",
              "      <th>total_acc</th>\n",
              "      <th>initial_list_status</th>\n",
              "      <th>application_type</th>\n",
              "      <th>mort_acc</th>\n",
              "      <th>pub_rec_bankruptcies</th>\n",
              "      <th>address</th>\n",
              "      <th>loan_repaid</th>\n",
              "    </tr>\n",
              "  </thead>\n",
              "  <tbody>\n",
              "    <tr>\n",
              "      <th>0</th>\n",
              "      <td>10000.0</td>\n",
              "      <td>36 months</td>\n",
              "      <td>11.44</td>\n",
              "      <td>329.48</td>\n",
              "      <td>B</td>\n",
              "      <td>B4</td>\n",
              "      <td>Marketing</td>\n",
              "      <td>10+ years</td>\n",
              "      <td>RENT</td>\n",
              "      <td>117000.0</td>\n",
              "      <td>...</td>\n",
              "      <td>0.0</td>\n",
              "      <td>36369.0</td>\n",
              "      <td>41.8</td>\n",
              "      <td>25.0</td>\n",
              "      <td>w</td>\n",
              "      <td>INDIVIDUAL</td>\n",
              "      <td>0.0</td>\n",
              "      <td>0.0</td>\n",
              "      <td>0174 Michelle Gateway\\nMendozaberg, OK 22690</td>\n",
              "      <td>1.0</td>\n",
              "    </tr>\n",
              "    <tr>\n",
              "      <th>1</th>\n",
              "      <td>8000.0</td>\n",
              "      <td>36 months</td>\n",
              "      <td>11.99</td>\n",
              "      <td>265.68</td>\n",
              "      <td>B</td>\n",
              "      <td>B5</td>\n",
              "      <td>Credit analyst</td>\n",
              "      <td>4 years</td>\n",
              "      <td>MORTGAGE</td>\n",
              "      <td>65000.0</td>\n",
              "      <td>...</td>\n",
              "      <td>0.0</td>\n",
              "      <td>20131.0</td>\n",
              "      <td>53.3</td>\n",
              "      <td>27.0</td>\n",
              "      <td>f</td>\n",
              "      <td>INDIVIDUAL</td>\n",
              "      <td>3.0</td>\n",
              "      <td>0.0</td>\n",
              "      <td>1076 Carney Fort Apt. 347\\nLoganmouth, SD 05113</td>\n",
              "      <td>1.0</td>\n",
              "    </tr>\n",
              "    <tr>\n",
              "      <th>2</th>\n",
              "      <td>15600.0</td>\n",
              "      <td>36 months</td>\n",
              "      <td>10.49</td>\n",
              "      <td>506.97</td>\n",
              "      <td>B</td>\n",
              "      <td>B3</td>\n",
              "      <td>Statistician</td>\n",
              "      <td>&lt; 1 year</td>\n",
              "      <td>RENT</td>\n",
              "      <td>43057.0</td>\n",
              "      <td>...</td>\n",
              "      <td>0.0</td>\n",
              "      <td>11987.0</td>\n",
              "      <td>92.2</td>\n",
              "      <td>26.0</td>\n",
              "      <td>f</td>\n",
              "      <td>INDIVIDUAL</td>\n",
              "      <td>0.0</td>\n",
              "      <td>0.0</td>\n",
              "      <td>87025 Mark Dale Apt. 269\\nNew Sabrina, WV 05113</td>\n",
              "      <td>1.0</td>\n",
              "    </tr>\n",
              "    <tr>\n",
              "      <th>3</th>\n",
              "      <td>7200.0</td>\n",
              "      <td>36 months</td>\n",
              "      <td>6.49</td>\n",
              "      <td>220.65</td>\n",
              "      <td>A</td>\n",
              "      <td>A2</td>\n",
              "      <td>Client Advocate</td>\n",
              "      <td>6 years</td>\n",
              "      <td>RENT</td>\n",
              "      <td>54000.0</td>\n",
              "      <td>...</td>\n",
              "      <td>0.0</td>\n",
              "      <td>5472.0</td>\n",
              "      <td>21.5</td>\n",
              "      <td>13.0</td>\n",
              "      <td>f</td>\n",
              "      <td>INDIVIDUAL</td>\n",
              "      <td>0.0</td>\n",
              "      <td>0.0</td>\n",
              "      <td>823 Reid Ford\\nDelacruzside, MA 00813</td>\n",
              "      <td>1.0</td>\n",
              "    </tr>\n",
              "    <tr>\n",
              "      <th>4</th>\n",
              "      <td>24375.0</td>\n",
              "      <td>60 months</td>\n",
              "      <td>17.27</td>\n",
              "      <td>609.33</td>\n",
              "      <td>C</td>\n",
              "      <td>C5</td>\n",
              "      <td>Destiny Management Inc.</td>\n",
              "      <td>9 years</td>\n",
              "      <td>MORTGAGE</td>\n",
              "      <td>55000.0</td>\n",
              "      <td>...</td>\n",
              "      <td>0.0</td>\n",
              "      <td>24584.0</td>\n",
              "      <td>69.8</td>\n",
              "      <td>43.0</td>\n",
              "      <td>f</td>\n",
              "      <td>INDIVIDUAL</td>\n",
              "      <td>1.0</td>\n",
              "      <td>0.0</td>\n",
              "      <td>679 Luna Roads\\nGreggshire, VA 11650</td>\n",
              "      <td>0.0</td>\n",
              "    </tr>\n",
              "  </tbody>\n",
              "</table>\n",
              "<p>5 rows × 28 columns</p>\n",
              "</div>\n",
              "      <button class=\"colab-df-convert\" onclick=\"convertToInteractive('df-53e32dd5-3432-4636-b3fb-2a1a3778ea47')\"\n",
              "              title=\"Convert this dataframe to an interactive table.\"\n",
              "              style=\"display:none;\">\n",
              "        \n",
              "  <svg xmlns=\"http://www.w3.org/2000/svg\" height=\"24px\"viewBox=\"0 0 24 24\"\n",
              "       width=\"24px\">\n",
              "    <path d=\"M0 0h24v24H0V0z\" fill=\"none\"/>\n",
              "    <path d=\"M18.56 5.44l.94 2.06.94-2.06 2.06-.94-2.06-.94-.94-2.06-.94 2.06-2.06.94zm-11 1L8.5 8.5l.94-2.06 2.06-.94-2.06-.94L8.5 2.5l-.94 2.06-2.06.94zm10 10l.94 2.06.94-2.06 2.06-.94-2.06-.94-.94-2.06-.94 2.06-2.06.94z\"/><path d=\"M17.41 7.96l-1.37-1.37c-.4-.4-.92-.59-1.43-.59-.52 0-1.04.2-1.43.59L10.3 9.45l-7.72 7.72c-.78.78-.78 2.05 0 2.83L4 21.41c.39.39.9.59 1.41.59.51 0 1.02-.2 1.41-.59l7.78-7.78 2.81-2.81c.8-.78.8-2.07 0-2.86zM5.41 20L4 18.59l7.72-7.72 1.47 1.35L5.41 20z\"/>\n",
              "  </svg>\n",
              "      </button>\n",
              "      \n",
              "  <style>\n",
              "    .colab-df-container {\n",
              "      display:flex;\n",
              "      flex-wrap:wrap;\n",
              "      gap: 12px;\n",
              "    }\n",
              "\n",
              "    .colab-df-convert {\n",
              "      background-color: #E8F0FE;\n",
              "      border: none;\n",
              "      border-radius: 50%;\n",
              "      cursor: pointer;\n",
              "      display: none;\n",
              "      fill: #1967D2;\n",
              "      height: 32px;\n",
              "      padding: 0 0 0 0;\n",
              "      width: 32px;\n",
              "    }\n",
              "\n",
              "    .colab-df-convert:hover {\n",
              "      background-color: #E2EBFA;\n",
              "      box-shadow: 0px 1px 2px rgba(60, 64, 67, 0.3), 0px 1px 3px 1px rgba(60, 64, 67, 0.15);\n",
              "      fill: #174EA6;\n",
              "    }\n",
              "\n",
              "    [theme=dark] .colab-df-convert {\n",
              "      background-color: #3B4455;\n",
              "      fill: #D2E3FC;\n",
              "    }\n",
              "\n",
              "    [theme=dark] .colab-df-convert:hover {\n",
              "      background-color: #434B5C;\n",
              "      box-shadow: 0px 1px 3px 1px rgba(0, 0, 0, 0.15);\n",
              "      filter: drop-shadow(0px 1px 2px rgba(0, 0, 0, 0.3));\n",
              "      fill: #FFFFFF;\n",
              "    }\n",
              "  </style>\n",
              "\n",
              "      <script>\n",
              "        const buttonEl =\n",
              "          document.querySelector('#df-53e32dd5-3432-4636-b3fb-2a1a3778ea47 button.colab-df-convert');\n",
              "        buttonEl.style.display =\n",
              "          google.colab.kernel.accessAllowed ? 'block' : 'none';\n",
              "\n",
              "        async function convertToInteractive(key) {\n",
              "          const element = document.querySelector('#df-53e32dd5-3432-4636-b3fb-2a1a3778ea47');\n",
              "          const dataTable =\n",
              "            await google.colab.kernel.invokeFunction('convertToInteractive',\n",
              "                                                     [key], {});\n",
              "          if (!dataTable) return;\n",
              "\n",
              "          const docLinkHtml = 'Like what you see? Visit the ' +\n",
              "            '<a target=\"_blank\" href=https://colab.research.google.com/notebooks/data_table.ipynb>data table notebook</a>'\n",
              "            + ' to learn more about interactive tables.';\n",
              "          element.innerHTML = '';\n",
              "          dataTable['output_type'] = 'display_data';\n",
              "          await google.colab.output.renderOutput(dataTable, element);\n",
              "          const docLink = document.createElement('div');\n",
              "          docLink.innerHTML = docLinkHtml;\n",
              "          element.appendChild(docLink);\n",
              "        }\n",
              "      </script>\n",
              "    </div>\n",
              "  </div>\n",
              "  "
            ]
          },
          "metadata": {},
          "execution_count": 29
        }
      ]
    },
    {
      "cell_type": "markdown",
      "source": [
        "##Missing Data"
      ],
      "metadata": {
        "id": "M3D7Pu0hldJx"
      }
    },
    {
      "cell_type": "markdown",
      "source": [
        "What is the length of the dataframe?"
      ],
      "metadata": {
        "id": "CfopNNzAlgej"
      }
    },
    {
      "cell_type": "code",
      "source": [
        "len(df)"
      ],
      "metadata": {
        "colab": {
          "base_uri": "https://localhost:8080/"
        },
        "id": "qEZgPji0larN",
        "outputId": "5307543f-c771-4b02-b2f4-28f53e602631"
      },
      "execution_count": 30,
      "outputs": [
        {
          "output_type": "execute_result",
          "data": {
            "text/plain": [
              "66466"
            ]
          },
          "metadata": {},
          "execution_count": 30
        }
      ]
    },
    {
      "cell_type": "markdown",
      "source": [
        "Create a Series that displays the total count of missing values per column."
      ],
      "metadata": {
        "id": "07b5WcMflps3"
      }
    },
    {
      "cell_type": "code",
      "source": [
        "df.isnull().sum()"
      ],
      "metadata": {
        "colab": {
          "base_uri": "https://localhost:8080/"
        },
        "id": "2bgb-Fy4lmCB",
        "outputId": "4b06a114-5500-4701-a0cd-2d1b8a6bff3d"
      },
      "execution_count": 31,
      "outputs": [
        {
          "output_type": "execute_result",
          "data": {
            "text/plain": [
              "loan_amnt                  0\n",
              "term                       0\n",
              "int_rate                   0\n",
              "installment                0\n",
              "grade                      0\n",
              "sub_grade                  0\n",
              "emp_title               3808\n",
              "emp_length              3060\n",
              "home_ownership             0\n",
              "annual_inc                 0\n",
              "verification_status        1\n",
              "issue_d                    1\n",
              "loan_status                1\n",
              "purpose                    1\n",
              "title                    278\n",
              "dti                        1\n",
              "earliest_cr_line           1\n",
              "open_acc                   1\n",
              "pub_rec                    1\n",
              "revol_bal                  1\n",
              "revol_util                50\n",
              "total_acc                  1\n",
              "initial_list_status        1\n",
              "application_type           1\n",
              "mort_acc                6297\n",
              "pub_rec_bankruptcies      76\n",
              "address                    1\n",
              "loan_repaid                1\n",
              "dtype: int64"
            ]
          },
          "metadata": {},
          "execution_count": 31
        }
      ]
    },
    {
      "cell_type": "markdown",
      "source": [
        "Convert this Series to be in term of percentage of the total DataFrame"
      ],
      "metadata": {
        "id": "IyshtboHl2J9"
      }
    },
    {
      "cell_type": "code",
      "source": [
        "100* df.isnull().sum()/len(df)"
      ],
      "metadata": {
        "colab": {
          "base_uri": "https://localhost:8080/"
        },
        "id": "kZS4oCbClsjw",
        "outputId": "a1c4b3f7-b75c-4ef1-dd89-536c68e35130"
      },
      "execution_count": 32,
      "outputs": [
        {
          "output_type": "execute_result",
          "data": {
            "text/plain": [
              "loan_amnt               0.000000\n",
              "term                    0.000000\n",
              "int_rate                0.000000\n",
              "installment             0.000000\n",
              "grade                   0.000000\n",
              "sub_grade               0.000000\n",
              "emp_title               5.729245\n",
              "emp_length              4.603858\n",
              "home_ownership          0.000000\n",
              "annual_inc              0.000000\n",
              "verification_status     0.001505\n",
              "issue_d                 0.001505\n",
              "loan_status             0.001505\n",
              "purpose                 0.001505\n",
              "title                   0.418259\n",
              "dti                     0.001505\n",
              "earliest_cr_line        0.001505\n",
              "open_acc                0.001505\n",
              "pub_rec                 0.001505\n",
              "revol_bal               0.001505\n",
              "revol_util              0.075226\n",
              "total_acc               0.001505\n",
              "initial_list_status     0.001505\n",
              "application_type        0.001505\n",
              "mort_acc                9.474017\n",
              "pub_rec_bankruptcies    0.114344\n",
              "address                 0.001505\n",
              "loan_repaid             0.001505\n",
              "dtype: float64"
            ]
          },
          "metadata": {},
          "execution_count": 32
        }
      ]
    },
    {
      "cell_type": "markdown",
      "source": [
        "Print out their feature information using the feat_info() function from the top of this notebook"
      ],
      "metadata": {
        "id": "XKNyP8UJl_aB"
      }
    },
    {
      "cell_type": "code",
      "source": [
        "feat_info('emp_title')\n",
        "print('\\n')\n",
        "feat_info('emp_length')"
      ],
      "metadata": {
        "colab": {
          "base_uri": "https://localhost:8080/"
        },
        "id": "hruEzs2Pl77f",
        "outputId": "f4b8b585-9e03-462e-e74a-dee693a54361"
      },
      "execution_count": 33,
      "outputs": [
        {
          "output_type": "stream",
          "name": "stdout",
          "text": [
            "The job title supplied by the Borrower when applying for the loan.*\n",
            "\n",
            "\n",
            "Employment length in years. Possible values are between 0 and 10 where 0 means less than one year and 10 means ten or more years. \n"
          ]
        }
      ]
    },
    {
      "cell_type": "markdown",
      "source": [
        "How many unique employment job titles are there?"
      ],
      "metadata": {
        "id": "MkSttqwnmOcY"
      }
    },
    {
      "cell_type": "code",
      "source": [
        "df['emp_title'].nunique()"
      ],
      "metadata": {
        "colab": {
          "base_uri": "https://localhost:8080/"
        },
        "id": "-8xmDOmQmKq0",
        "outputId": "a3915761-727b-4275-f5f4-82f84c0b1003"
      },
      "execution_count": 34,
      "outputs": [
        {
          "output_type": "execute_result",
          "data": {
            "text/plain": [
              "37194"
            ]
          },
          "metadata": {},
          "execution_count": 34
        }
      ]
    },
    {
      "cell_type": "code",
      "source": [
        "df['emp_title'].value_counts()"
      ],
      "metadata": {
        "colab": {
          "base_uri": "https://localhost:8080/"
        },
        "id": "L-NEvTPhmTr_",
        "outputId": "0fd66e50-0e50-4c9f-821a-ba149d71e741"
      },
      "execution_count": 35,
      "outputs": [
        {
          "output_type": "execute_result",
          "data": {
            "text/plain": [
              "Manager                      737\n",
              "Teacher                      737\n",
              "Registered Nurse             329\n",
              "Supervisor                   315\n",
              "RN                           295\n",
              "                            ... \n",
              "Systems Analyst Staff Sr       1\n",
              "Naval Research Laboratory      1\n",
              "Special Ed Teacher's Aide      1\n",
              "Stater Bros.                   1\n",
              "power plant operater           1\n",
              "Name: emp_title, Length: 37194, dtype: int64"
            ]
          },
          "metadata": {},
          "execution_count": 35
        }
      ]
    },
    {
      "cell_type": "markdown",
      "source": [
        "Realistically there are too many unique job titles to try to convert this to a dummy variable feature. Let's remove that emp_title column."
      ],
      "metadata": {
        "id": "io6iqt0amcbZ"
      }
    },
    {
      "cell_type": "code",
      "source": [
        "df=df.drop('emp_title',axis=1)"
      ],
      "metadata": {
        "id": "qYkEAm-zmZ8a"
      },
      "execution_count": 36,
      "outputs": []
    },
    {
      "cell_type": "markdown",
      "source": [
        "Create a count plot of the emp_length feature column. Challenge: Sort the order of the values."
      ],
      "metadata": {
        "id": "b_IqUvZUmpVi"
      }
    },
    {
      "cell_type": "code",
      "source": [
        "sorted(df['emp_length'].dropna().unique())"
      ],
      "metadata": {
        "colab": {
          "base_uri": "https://localhost:8080/"
        },
        "id": "ZI2XxIxImm-g",
        "outputId": "7deb35fb-87a5-4b11-d8bd-31df27b8717f"
      },
      "execution_count": 37,
      "outputs": [
        {
          "output_type": "execute_result",
          "data": {
            "text/plain": [
              "['1 year',\n",
              " '10+ years',\n",
              " '2 years',\n",
              " '3 years',\n",
              " '4 years',\n",
              " '5 years',\n",
              " '6 years',\n",
              " '7 years',\n",
              " '8 years',\n",
              " '9 years',\n",
              " '< 1 year']"
            ]
          },
          "metadata": {},
          "execution_count": 37
        }
      ]
    },
    {
      "cell_type": "code",
      "source": [
        "emp_length_order=['< 1 year',\n",
        "                '1 year',\n",
        "                '2 years',\n",
        "                '3 years',\n",
        "                '4 years',\n",
        "                '5 years',\n",
        "                '6 years',\n",
        "                '7 years',\n",
        "                '8 years',\n",
        "                '9 years',\n",
        "                '10+ years']"
      ],
      "metadata": {
        "id": "rLnJv5Z5mvot"
      },
      "execution_count": 38,
      "outputs": []
    },
    {
      "cell_type": "code",
      "source": [
        "plt.figure(figsize=(12,4))\n",
        "sns.countplot(x='emp_length',data=df,order=emp_length_order)"
      ],
      "metadata": {
        "colab": {
          "base_uri": "https://localhost:8080/",
          "height": 297
        },
        "id": "d8-vYAvqnaOT",
        "outputId": "7032dc46-38e0-41e9-98bb-831b4d03e16b"
      },
      "execution_count": 39,
      "outputs": [
        {
          "output_type": "execute_result",
          "data": {
            "text/plain": [
              "<matplotlib.axes._subplots.AxesSubplot at 0x7f215962fe10>"
            ]
          },
          "metadata": {},
          "execution_count": 39
        },
        {
          "output_type": "display_data",
          "data": {
            "text/plain": [
              "<Figure size 864x288 with 1 Axes>"
            ],
            "image/png": "[encoded data removed]"
          },
          "metadata": {
            "needs_background": "light"
          }
        }
      ]
    },
    {
      "cell_type": "markdown",
      "source": [
        "Plot out the countplot with a hue separating Fully Paid vs Charged Off"
      ],
      "metadata": {
        "id": "BN1RFDGSn9Bw"
      }
    },
    {
      "cell_type": "code",
      "source": [
        "plt.figure(figsize=(12,4))\n",
        "sns.countplot(x='emp_length',data=df,order=emp_length_order,hue='loan_status')"
      ],
      "metadata": {
        "colab": {
          "base_uri": "https://localhost:8080/",
          "height": 297
        },
        "id": "yhlc63fBnrw9",
        "outputId": "cf911f1f-80a3-4311-a7d6-edf15bc615ea"
      },
      "execution_count": 40,
      "outputs": [
        {
          "output_type": "execute_result",
          "data": {
            "text/plain": [
              "<matplotlib.axes._subplots.AxesSubplot at 0x7f2166728490>"
            ]
          },
          "metadata": {},
          "execution_count": 40
        },
        {
          "output_type": "display_data",
          "data": {
            "text/plain": [
              "<Figure size 864x288 with 1 Axes>"
            ],
            "image/png": "[encoded data removed]"
          },
          "metadata": {
            "needs_background": "light"
          }
        }
      ]
    },
    {
      "cell_type": "markdown",
      "source": [
        "This still doesn't really inform us if there is a strong relationship between employment length and being charged off, what we want is the percentage of charge offs per category. Essentially informing us what percent of people per employment category didn't pay back their loan. There are a multitude of ways to create this Series. Once you've created it, see if visualize it with a bar plot. This may be tricky, refer to solutions if you get stuck on creating this Series."
      ],
      "metadata": {
        "id": "GLxjfQnTofJH"
      }
    },
    {
      "cell_type": "code",
      "source": [
        "emp_co=df[df['loan_status']=='Charged Off'].groupby(\"emp_length\").count()['loan_status']"
      ],
      "metadata": {
        "id": "f2dsgEwsoWWt"
      },
      "execution_count": 41,
      "outputs": []
    },
    {
      "cell_type": "code",
      "source": [
        "emp_fp=df[df['loan_status']=='Fully Paid'].groupby('emp_length').count()['loan_status']"
      ],
      "metadata": {
        "id": "BKxhWwF9ouSY"
      },
      "execution_count": 42,
      "outputs": []
    },
    {
      "cell_type": "code",
      "source": [
        "emp_len=emp_co/emp_fp"
      ],
      "metadata": {
        "id": "OhQrcfUgo-L8"
      },
      "execution_count": 43,
      "outputs": []
    },
    {
      "cell_type": "code",
      "source": [
        "emp_len"
      ],
      "metadata": {
        "colab": {
          "base_uri": "https://localhost:8080/"
        },
        "id": "k_WZTK5wpD71",
        "outputId": "1bd91b5c-d586-40e0-9118-8fc792be4f74"
      },
      "execution_count": 44,
      "outputs": [
        {
          "output_type": "execute_result",
          "data": {
            "text/plain": [
              "emp_length\n",
              "1 year       0.257616\n",
              "10+ years    0.222076\n",
              "2 years      0.249063\n",
              "3 years      0.237491\n",
              "4 years      0.237214\n",
              "5 years      0.239621\n",
              "6 years      0.222683\n",
              "7 years      0.234012\n",
              "8 years      0.243529\n",
              "9 years      0.245149\n",
              "< 1 year     0.262895\n",
              "Name: loan_status, dtype: float64"
            ]
          },
          "metadata": {},
          "execution_count": 44
        }
      ]
    },
    {
      "cell_type": "code",
      "source": [
        "emp_len.plot(kind='bar')"
      ],
      "metadata": {
        "colab": {
          "base_uri": "https://localhost:8080/",
          "height": 339
        },
        "id": "5m41_KKWpGCV",
        "outputId": "7e006cda-4e7a-4c70-8427-6fcb8dd54ff8"
      },
      "execution_count": 45,
      "outputs": [
        {
          "output_type": "execute_result",
          "data": {
            "text/plain": [
              "<matplotlib.axes._subplots.AxesSubplot at 0x7f21591af5d0>"
            ]
          },
          "metadata": {},
          "execution_count": 45
        },
        {
          "output_type": "display_data",
          "data": {
            "text/plain": [
              "<Figure size 432x288 with 1 Axes>"
            ],
            "image/png": "[encoded data removed]"
          },
          "metadata": {
            "needs_background": "light"
          }
        }
      ]
    },
    {
      "cell_type": "markdown",
      "source": [
        "Charge off rates are extremely similar across all employment lengths. Go ahead and drop the emp_length column."
      ],
      "metadata": {
        "id": "tG82lRbzpQ4P"
      }
    },
    {
      "cell_type": "code",
      "source": [
        "df=df.drop('emp_length',axis=1)"
      ],
      "metadata": {
        "id": "QktDJbdjpKlA"
      },
      "execution_count": 46,
      "outputs": []
    },
    {
      "cell_type": "markdown",
      "source": [
        "Revisit the DataFrame to see what feature columns still have missing data."
      ],
      "metadata": {
        "id": "3JnOwrKTpeQ6"
      }
    },
    {
      "cell_type": "code",
      "source": [
        "df.isnull().sum()"
      ],
      "metadata": {
        "colab": {
          "base_uri": "https://localhost:8080/"
        },
        "id": "3Ph_ZDPBpZ8i",
        "outputId": "20ceb148-ffd2-454e-b5e0-466fab60843e"
      },
      "execution_count": 47,
      "outputs": [
        {
          "output_type": "execute_result",
          "data": {
            "text/plain": [
              "loan_amnt                  0\n",
              "term                       0\n",
              "int_rate                   0\n",
              "installment                0\n",
              "grade                      0\n",
              "sub_grade                  0\n",
              "home_ownership             0\n",
              "annual_inc                 0\n",
              "verification_status        1\n",
              "issue_d                    1\n",
              "loan_status                1\n",
              "purpose                    1\n",
              "title                    278\n",
              "dti                        1\n",
              "earliest_cr_line           1\n",
              "open_acc                   1\n",
              "pub_rec                    1\n",
              "revol_bal                  1\n",
              "revol_util                50\n",
              "total_acc                  1\n",
              "initial_list_status        1\n",
              "application_type           1\n",
              "mort_acc                6297\n",
              "pub_rec_bankruptcies      76\n",
              "address                    1\n",
              "loan_repaid                1\n",
              "dtype: int64"
            ]
          },
          "metadata": {},
          "execution_count": 47
        }
      ]
    },
    {
      "cell_type": "markdown",
      "source": [
        "Review the title column vs the purpose column. Is this repeated information?"
      ],
      "metadata": {
        "id": "85zm3CnQpm0H"
      }
    },
    {
      "cell_type": "code",
      "source": [
        "df['purpose'].head(10)"
      ],
      "metadata": {
        "colab": {
          "base_uri": "https://localhost:8080/"
        },
        "id": "Ijs7BgrxpkKd",
        "outputId": "36740528-1e2d-4327-9b6f-cd0c77a477e2"
      },
      "execution_count": 48,
      "outputs": [
        {
          "output_type": "execute_result",
          "data": {
            "text/plain": [
              "0              vacation\n",
              "1    debt_consolidation\n",
              "2           credit_card\n",
              "3           credit_card\n",
              "4           credit_card\n",
              "5    debt_consolidation\n",
              "6      home_improvement\n",
              "7           credit_card\n",
              "8    debt_consolidation\n",
              "9    debt_consolidation\n",
              "Name: purpose, dtype: object"
            ]
          },
          "metadata": {},
          "execution_count": 48
        }
      ]
    },
    {
      "cell_type": "code",
      "source": [
        "df['title'].head(10)"
      ],
      "metadata": {
        "colab": {
          "base_uri": "https://localhost:8080/"
        },
        "id": "R0rrtRgcpuLU",
        "outputId": "8638a00c-60aa-461f-e13e-08f6bc037725"
      },
      "execution_count": 49,
      "outputs": [
        {
          "output_type": "execute_result",
          "data": {
            "text/plain": [
              "0                   Vacation\n",
              "1         Debt consolidation\n",
              "2    Credit card refinancing\n",
              "3    Credit card refinancing\n",
              "4      Credit Card Refinance\n",
              "5         Debt consolidation\n",
              "6           Home improvement\n",
              "7       No More Credit Cards\n",
              "8         Debt consolidation\n",
              "9         Debt Consolidation\n",
              "Name: title, dtype: object"
            ]
          },
          "metadata": {},
          "execution_count": 49
        }
      ]
    },
    {
      "cell_type": "markdown",
      "source": [
        "The title column is simply a string subcategory/description of the purpose column. Go ahead and drop the title column."
      ],
      "metadata": {
        "id": "2HhWmRxMp04T"
      }
    },
    {
      "cell_type": "code",
      "source": [
        "df=df.drop('title',axis=1)"
      ],
      "metadata": {
        "id": "4Rn4PxempxhW"
      },
      "execution_count": 50,
      "outputs": []
    },
    {
      "cell_type": "markdown",
      "source": [
        " Find out what the mort_acc feature represents"
      ],
      "metadata": {
        "id": "ThT5ALxyp8nq"
      }
    },
    {
      "cell_type": "code",
      "source": [
        "feat_info('mort_acc')"
      ],
      "metadata": {
        "colab": {
          "base_uri": "https://localhost:8080/"
        },
        "id": "wPeZoxyAp575",
        "outputId": "4e24727d-dc2e-4b9f-cd6d-9ac40794cd9b"
      },
      "execution_count": 51,
      "outputs": [
        {
          "output_type": "stream",
          "name": "stdout",
          "text": [
            "Number of mortgage accounts.\n"
          ]
        }
      ]
    },
    {
      "cell_type": "markdown",
      "source": [
        "create a value_counts of mort_acc column."
      ],
      "metadata": {
        "id": "DvrZ4JZ5qTBm"
      }
    },
    {
      "cell_type": "code",
      "source": [
        "df['mort_acc'].value_counts()"
      ],
      "metadata": {
        "colab": {
          "base_uri": "https://localhost:8080/"
        },
        "id": "DFx3Z7G9p_VL",
        "outputId": "c049e363-a4ca-4544-e5fb-a845a7f6fe8e"
      },
      "execution_count": 52,
      "outputs": [
        {
          "output_type": "execute_result",
          "data": {
            "text/plain": [
              "0.0     23437\n",
              "1.0     10146\n",
              "2.0      8455\n",
              "3.0      6412\n",
              "4.0      4602\n",
              "5.0      3013\n",
              "6.0      1936\n",
              "7.0       996\n",
              "8.0       538\n",
              "9.0       278\n",
              "10.0      159\n",
              "11.0       73\n",
              "12.0       46\n",
              "14.0       24\n",
              "13.0       22\n",
              "15.0       10\n",
              "16.0        6\n",
              "17.0        4\n",
              "19.0        3\n",
              "22.0        2\n",
              "25.0        2\n",
              "34.0        1\n",
              "32.0        1\n",
              "18.0        1\n",
              "24.0        1\n",
              "21.0        1\n",
              "Name: mort_acc, dtype: int64"
            ]
          },
          "metadata": {},
          "execution_count": 52
        }
      ]
    },
    {
      "cell_type": "markdown",
      "source": [
        "There are many ways we could deal with this missing data. We could attempt to build a simple model to fill it in, such as a linear model, we could just fill it in based on the mean of the other columns, or you could even bin the columns into categories and then set NaN as its own category. There is no 100% correct approach! Let's review the other columsn to see which most highly correlates to mort_acc"
      ],
      "metadata": {
        "id": "EOcn61VIrDwE"
      }
    },
    {
      "cell_type": "code",
      "source": [
        "print('Correlation with the mort_acc column')\n",
        "df.corr()['mort_acc'].sort_values()"
      ],
      "metadata": {
        "colab": {
          "base_uri": "https://localhost:8080/"
        },
        "id": "EdlcrxDerAMv",
        "outputId": "de2e7eab-ca04-4c3d-942c-ef97727daa1d"
      },
      "execution_count": 53,
      "outputs": [
        {
          "output_type": "stream",
          "name": "stdout",
          "text": [
            "Correlation with the mort_acc column\n"
          ]
        },
        {
          "output_type": "execute_result",
          "data": {
            "text/plain": [
              "int_rate               -0.080948\n",
              "dti                    -0.053699\n",
              "pub_rec                 0.014070\n",
              "revol_util              0.014381\n",
              "pub_rec_bankruptcies    0.031525\n",
              "loan_repaid             0.076166\n",
              "open_acc                0.114453\n",
              "installment             0.199539\n",
              "revol_bal               0.204739\n",
              "loan_amnt               0.228062\n",
              "annual_inc              0.259107\n",
              "total_acc               0.383999\n",
              "mort_acc                1.000000\n",
              "Name: mort_acc, dtype: float64"
            ]
          },
          "metadata": {},
          "execution_count": 53
        }
      ]
    },
    {
      "cell_type": "markdown",
      "source": [
        " Looks like the total_acc feature correlates with the mort_acc , this makes sense! Let's try this fillna() approach. We will group the dataframe by the total_acc and calculate the mean value for the mort_acc per total_acc entry. To get the result below"
      ],
      "metadata": {
        "id": "FxBmVK_LrZIT"
      }
    },
    {
      "cell_type": "code",
      "source": [
        "print(\"Mean of mort_acc column per total_acc\")\n",
        "df.groupby('total_acc').mean()['mort_acc']"
      ],
      "metadata": {
        "colab": {
          "base_uri": "https://localhost:8080/"
        },
        "id": "UwIKYN3qrT11",
        "outputId": "24a6ad9b-43d3-4b4b-87c2-0ff200d19fbd"
      },
      "execution_count": 54,
      "outputs": [
        {
          "output_type": "stream",
          "name": "stdout",
          "text": [
            "Mean of mort_acc column per total_acc\n"
          ]
        },
        {
          "output_type": "execute_result",
          "data": {
            "text/plain": [
              "total_acc\n",
              "2.0      0.000000\n",
              "3.0      0.033333\n",
              "4.0      0.086957\n",
              "5.0      0.099174\n",
              "6.0      0.157895\n",
              "           ...   \n",
              "105.0    6.000000\n",
              "106.0    0.000000\n",
              "108.0    0.000000\n",
              "111.0    4.000000\n",
              "135.0    3.000000\n",
              "Name: mort_acc, Length: 100, dtype: float64"
            ]
          },
          "metadata": {},
          "execution_count": 54
        }
      ]
    },
    {
      "cell_type": "markdown",
      "source": [
        " Let's fill in the missing mort_acc values based on their total_acc value. If the mort_acc is missing, then we will fill in that missing value with the mean value corresponding to its total_acc value from the Series we created above. This involves using an .apply() method with two columns. Check out the link below for more info, or review the solutions video/notebook."
      ],
      "metadata": {
        "id": "chJbuWk_r9gS"
      }
    },
    {
      "cell_type": "code",
      "source": [
        "total_acc_avg = df.groupby('total_acc').mean()['mort_acc'].dropna(axis=0)"
      ],
      "metadata": {
        "id": "RTYRS6ZFr5RL"
      },
      "execution_count": 55,
      "outputs": []
    },
    {
      "cell_type": "code",
      "source": [
        "def fill_mort_acc(total_acc,mort_acc):\n",
        "    if np.isnan(mort_acc):\n",
        "        return total_acc_avg[total_acc]\n",
        "    else:\n",
        "        return mort_acc"
      ],
      "metadata": {
        "id": "OEkqC9lMuA27"
      },
      "execution_count": 56,
      "outputs": []
    },
    {
      "cell_type": "code",
      "source": [
        "#df['mort_acc']=df.apply(lambda x:fill_mort_acc(x['total_acc'],x['mort_acc']),axis=1)"
      ],
      "metadata": {
        "id": "qCTLoPW8vKTB"
      },
      "execution_count": 57,
      "outputs": []
    },
    {
      "cell_type": "markdown",
      "source": [
        "revol_util and the pub_rec_bankruptcies have missing data points, but they account for less than 0.5% of the total data. Go ahead and remove the rows that are missing those values in those columns with dropna()."
      ],
      "metadata": {
        "id": "hTRs-MwVuGPw"
      }
    },
    {
      "cell_type": "code",
      "source": [
        "df=df.dropna()"
      ],
      "metadata": {
        "id": "vWP1REFjyS8Q"
      },
      "execution_count": 58,
      "outputs": []
    },
    {
      "cell_type": "code",
      "source": [
        "df.isnull().sum()"
      ],
      "metadata": {
        "colab": {
          "base_uri": "https://localhost:8080/"
        },
        "id": "zOCuz5b7uYid",
        "outputId": "6f616328-e4c7-4ac0-c42f-ca0d98da4bef"
      },
      "execution_count": 59,
      "outputs": [
        {
          "output_type": "execute_result",
          "data": {
            "text/plain": [
              "loan_amnt               0\n",
              "term                    0\n",
              "int_rate                0\n",
              "installment             0\n",
              "grade                   0\n",
              "sub_grade               0\n",
              "home_ownership          0\n",
              "annual_inc              0\n",
              "verification_status     0\n",
              "issue_d                 0\n",
              "loan_status             0\n",
              "purpose                 0\n",
              "dti                     0\n",
              "earliest_cr_line        0\n",
              "open_acc                0\n",
              "pub_rec                 0\n",
              "revol_bal               0\n",
              "revol_util              0\n",
              "total_acc               0\n",
              "initial_list_status     0\n",
              "application_type        0\n",
              "mort_acc                0\n",
              "pub_rec_bankruptcies    0\n",
              "address                 0\n",
              "loan_repaid             0\n",
              "dtype: int64"
            ]
          },
          "metadata": {},
          "execution_count": 59
        }
      ]
    },
    {
      "cell_type": "markdown",
      "source": [
        "###Categorical Variables and Dummy Variables"
      ],
      "metadata": {
        "id": "qcL8GgwLugGK"
      }
    },
    {
      "cell_type": "markdown",
      "source": [
        " List all the columns that are currently non-numeric."
      ],
      "metadata": {
        "id": "QGXhjUilujs7"
      }
    },
    {
      "cell_type": "code",
      "source": [
        "df.select_dtypes(['object']).columns"
      ],
      "metadata": {
        "colab": {
          "base_uri": "https://localhost:8080/"
        },
        "id": "mYL1Cf-fubRE",
        "outputId": "b2052f7c-95d8-467c-a85f-e26e81ab9302"
      },
      "execution_count": 60,
      "outputs": [
        {
          "output_type": "execute_result",
          "data": {
            "text/plain": [
              "Index(['term', 'grade', 'sub_grade', 'home_ownership', 'verification_status',\n",
              "       'issue_d', 'loan_status', 'purpose', 'earliest_cr_line',\n",
              "       'initial_list_status', 'application_type', 'address'],\n",
              "      dtype='object')"
            ]
          },
          "metadata": {},
          "execution_count": 60
        }
      ]
    },
    {
      "cell_type": "markdown",
      "source": [
        " Convert the term feature into either a 36 or 60 integer numeric data type using .apply() or .map()."
      ],
      "metadata": {
        "id": "ZEnXg2lhuwj0"
      }
    },
    {
      "cell_type": "code",
      "source": [
        "df['term'].value_counts()"
      ],
      "metadata": {
        "colab": {
          "base_uri": "https://localhost:8080/"
        },
        "id": "cYShpr8_usMV",
        "outputId": "87f5035e-884c-4c9b-b251-258b51ff017b"
      },
      "execution_count": 61,
      "outputs": [
        {
          "output_type": "execute_result",
          "data": {
            "text/plain": [
              " 36 months    45913\n",
              " 60 months    14215\n",
              "Name: term, dtype: int64"
            ]
          },
          "metadata": {},
          "execution_count": 61
        }
      ]
    },
    {
      "cell_type": "code",
      "source": [
        "df=df.drop('grade',axis=1)"
      ],
      "metadata": {
        "id": "SH227oFZu246"
      },
      "execution_count": 62,
      "outputs": []
    },
    {
      "cell_type": "markdown",
      "source": [
        "Convert the subgrade into dummy variables. Then concatenate these new columns to the original dataframe. Remember to drop the original subgrade column and to add drop_first=True to your get_dummies call."
      ],
      "metadata": {
        "id": "Kb0RzLdFvHER"
      }
    },
    {
      "cell_type": "code",
      "source": [
        "subgrade_dummies = pd.get_dummies(df['sub_grade'],drop_first=True)"
      ],
      "metadata": {
        "id": "3cuAnbzbvDMJ"
      },
      "execution_count": 63,
      "outputs": []
    },
    {
      "cell_type": "code",
      "source": [
        "df=pd.concat([df.drop('sub_grade',axis=1),subgrade_dummies],axis=1)"
      ],
      "metadata": {
        "id": "_RJ516L_v3Zm"
      },
      "execution_count": 64,
      "outputs": []
    },
    {
      "cell_type": "code",
      "source": [
        "df.columns"
      ],
      "metadata": {
        "colab": {
          "base_uri": "https://localhost:8080/"
        },
        "id": "xSuwbAzYwHBD",
        "outputId": "7fc498c2-ac1b-461c-e85f-3e5078bed2b6"
      },
      "execution_count": 65,
      "outputs": [
        {
          "output_type": "execute_result",
          "data": {
            "text/plain": [
              "Index(['loan_amnt', 'term', 'int_rate', 'installment', 'home_ownership',\n",
              "       'annual_inc', 'verification_status', 'issue_d', 'loan_status',\n",
              "       'purpose', 'dti', 'earliest_cr_line', 'open_acc', 'pub_rec',\n",
              "       'revol_bal', 'revol_util', 'total_acc', 'initial_list_status',\n",
              "       'application_type', 'mort_acc', 'pub_rec_bankruptcies', 'address',\n",
              "       'loan_repaid', 'A2', 'A3', 'A4', 'A5', 'B1', 'B2', 'B3', 'B4', 'B5',\n",
              "       'C1', 'C2', 'C3', 'C4', 'C5', 'D1', 'D2', 'D3', 'D4', 'D5', 'E1', 'E2',\n",
              "       'E3', 'E4', 'E5', 'F1', 'F2', 'F3', 'F4', 'F5', 'G1', 'G2', 'G3', 'G4',\n",
              "       'G5'],\n",
              "      dtype='object')"
            ]
          },
          "metadata": {},
          "execution_count": 65
        }
      ]
    },
    {
      "cell_type": "code",
      "source": [
        "df.select_dtypes(['object']).columns"
      ],
      "metadata": {
        "colab": {
          "base_uri": "https://localhost:8080/"
        },
        "id": "cjVxzMGAwI5d",
        "outputId": "e789615b-cdf0-4a51-ce1d-79db99a11669"
      },
      "execution_count": 66,
      "outputs": [
        {
          "output_type": "execute_result",
          "data": {
            "text/plain": [
              "Index(['term', 'home_ownership', 'verification_status', 'issue_d',\n",
              "       'loan_status', 'purpose', 'earliest_cr_line', 'initial_list_status',\n",
              "       'application_type', 'address'],\n",
              "      dtype='object')"
            ]
          },
          "metadata": {},
          "execution_count": 66
        }
      ]
    },
    {
      "cell_type": "markdown",
      "source": [
        "###verification_status, application_type,initial_list_status,purpose"
      ],
      "metadata": {
        "id": "UfMmXnZUwUCm"
      }
    },
    {
      "cell_type": "markdown",
      "source": [
        "Convert these columns: ['verification_status', 'application_type','initial_list_status','purpose'] into dummy variables and concatenate them with the original dataframe. Remember to set drop_first=True and to drop the original columns."
      ],
      "metadata": {
        "id": "FFfjlk1dwYFy"
      }
    },
    {
      "cell_type": "code",
      "source": [
        "dummies=pd.get_dummies(df[['verification_status','application_type','initial_list_status','purpose']],drop_first=True)"
      ],
      "metadata": {
        "id": "y68dViQxwRZQ"
      },
      "execution_count": 67,
      "outputs": []
    },
    {
      "cell_type": "code",
      "source": [
        "df=df.drop(['verification_status','application_type','initial_list_status','purpose'],axis=1)\n",
        "df=pd.concat([df,dummies],axis=1)"
      ],
      "metadata": {
        "id": "u2pN_9SZw2Xw"
      },
      "execution_count": 71,
      "outputs": []
    },
    {
      "cell_type": "markdown",
      "source": [
        "###home owenership"
      ],
      "metadata": {
        "id": "WkmRgbC3xn9m"
      }
    },
    {
      "cell_type": "markdown",
      "source": [
        "Review the value_counts for the home_ownership column."
      ],
      "metadata": {
        "id": "WMjHRR5exuAg"
      }
    },
    {
      "cell_type": "code",
      "source": [
        "df['home_ownership'].value_counts()"
      ],
      "metadata": {
        "colab": {
          "base_uri": "https://localhost:8080/"
        },
        "id": "Nb15GUDyxUMe",
        "outputId": "fd01d1d1-e17e-4094-a5b3-d6949f70c605"
      },
      "execution_count": 72,
      "outputs": [
        {
          "output_type": "execute_result",
          "data": {
            "text/plain": [
              "MORTGAGE    30513\n",
              "RENT        23762\n",
              "OWN          5843\n",
              "OTHER           7\n",
              "NONE            2\n",
              "ANY             1\n",
              "Name: home_ownership, dtype: int64"
            ]
          },
          "metadata": {},
          "execution_count": 72
        }
      ]
    },
    {
      "cell_type": "markdown",
      "source": [
        "Convert these to dummy variables, but replace NONE and ANY with OTHER, so that we end up with just 4 categories, MORTGAGE, RENT, OWN, OTHER. Then concatenate them with the original dataframe. Remember to set drop_first=True and to drop the original columns."
      ],
      "metadata": {
        "id": "AktCKY1ax33F"
      }
    },
    {
      "cell_type": "code",
      "source": [
        "df['home_ownership']=df['home_ownership'].replace(['NONE','ANY'],'OTHER')\n",
        "\n",
        "dummies=pd.get_dummies(df['home_ownership'],drop_first=True)\n",
        "df=df.drop('home_ownership',axis=1)\n",
        "df=pd.concat([df,dummies],axis=1)"
      ],
      "metadata": {
        "id": "A9vE9t8hx0op"
      },
      "execution_count": 73,
      "outputs": []
    },
    {
      "cell_type": "markdown",
      "source": [
        "###address\n",
        "Let's feature engineer a zip code column from the address in the data set. Create a column called 'zip_code' that extracts the zip code from the address column"
      ],
      "metadata": {
        "id": "N6HKsEycyfmk"
      }
    },
    {
      "cell_type": "code",
      "source": [
        "df['zip_code']=df['address'].apply(lambda address:address[-5:])"
      ],
      "metadata": {
        "id": "FxknNJKpybrh"
      },
      "execution_count": 74,
      "outputs": []
    },
    {
      "cell_type": "markdown",
      "source": [
        "Now make this zip_code column into dummy variables using pandas. Concatenate the result and drop the original zip_code column along with dropping the address column."
      ],
      "metadata": {
        "id": "ZxUYUqYVy1LU"
      }
    },
    {
      "cell_type": "code",
      "source": [
        "dummies=pd.get_dummies(df['zip_code'],drop_first=True)\n",
        "df= df.drop(['zip_code','address'],axis=1)\n",
        "df=pd.concat([df,dummies],axis=1)"
      ],
      "metadata": {
        "id": "bBHgKbK-yuI_"
      },
      "execution_count": 75,
      "outputs": []
    },
    {
      "cell_type": "markdown",
      "source": [
        "###issue_d\n",
        "\n",
        "This would be data leakage, we wouldn't know beforehand whether or not a loan would be issued when using our model, so in theory we wouldn't have an issue_date, drop this feature."
      ],
      "metadata": {
        "id": "d1cysxO-zRL7"
      }
    },
    {
      "cell_type": "code",
      "source": [
        "df=df.drop('issue_d',axis=1)"
      ],
      "metadata": {
        "id": "-NKMjavtzKic"
      },
      "execution_count": 76,
      "outputs": []
    },
    {
      "cell_type": "markdown",
      "source": [
        "###earliest_cr_line\n",
        "\n",
        " This appears to be a historical time stamp feature. Extract the year from this feature using a .apply function, then convert it to a numeric feature. Set this new data to a feature column called 'earliest_cr_year'.Then drop the earliest_cr_line feature."
      ],
      "metadata": {
        "id": "-tXdGYhqzaT5"
      }
    },
    {
      "cell_type": "code",
      "source": [
        "df = df.drop('earliest_cr_line',axis=1)"
      ],
      "metadata": {
        "id": "jSXQidXmzXj1"
      },
      "execution_count": 82,
      "outputs": []
    },
    {
      "cell_type": "markdown",
      "source": [
        "###Train Test Split\n",
        "Import train_test_split from sklearn"
      ],
      "metadata": {
        "id": "Qv-EGyEY0_NT"
      }
    },
    {
      "cell_type": "code",
      "source": [
        "from sklearn.model_selection import train_test_split"
      ],
      "metadata": {
        "id": "5PJ-cPEFzqTf"
      },
      "execution_count": 81,
      "outputs": []
    },
    {
      "cell_type": "markdown",
      "source": [
        "drop the load_status column we created earlier, since its a duplicate of the loan_repaid column. We'll use the loan_repaid column since its already in 0s and 1s"
      ],
      "metadata": {
        "id": "Ov9JNmCj1KIp"
      }
    },
    {
      "cell_type": "code",
      "source": [
        "df=df.drop('loan_status',axis=1)"
      ],
      "metadata": {
        "id": "fll92sZc1Huy"
      },
      "execution_count": 83,
      "outputs": []
    },
    {
      "cell_type": "markdown",
      "source": [
        "Set X and y variables to the .values of the features and label."
      ],
      "metadata": {
        "id": "-tMC2wwz1XOs"
      }
    },
    {
      "cell_type": "code",
      "source": [
        "X=df.drop(['loan_repaid','term'],axis=1).values\n",
        "y=df['loan_repaid'].values"
      ],
      "metadata": {
        "id": "frKJEfxr1VAt"
      },
      "execution_count": 91,
      "outputs": []
    },
    {
      "cell_type": "markdown",
      "source": [
        "Use .sample() to grab a sample of the 490k+ entries to save time on training. Highly recommended for lower RAM computers or if you are not using GPU"
      ],
      "metadata": {
        "id": "fmZX6d8u1m6X"
      }
    },
    {
      "cell_type": "code",
      "source": [
        "print(len(df))"
      ],
      "metadata": {
        "colab": {
          "base_uri": "https://localhost:8080/"
        },
        "id": "fVqFwAw91g9G",
        "outputId": "d0c5cc25-4fca-492d-9e9d-efb8f44139fb"
      },
      "execution_count": 92,
      "outputs": [
        {
          "output_type": "stream",
          "name": "stdout",
          "text": [
            "60128\n"
          ]
        }
      ]
    },
    {
      "cell_type": "markdown",
      "source": [
        "Perform a train/test split with test_size=0.2 and a random_state of 101."
      ],
      "metadata": {
        "id": "tg9vWce-1t0s"
      }
    },
    {
      "cell_type": "code",
      "source": [
        "X_train,X_test,y_train,y_test=train_test_split(X,y,test_size=0.2,random_state=101)"
      ],
      "metadata": {
        "id": "SZK3sszt1qec"
      },
      "execution_count": 93,
      "outputs": []
    },
    {
      "cell_type": "markdown",
      "source": [
        "Normalizing the Data\n",
        "Use a MinMaxScaler to normalize the feature data X_train and X_test. Recall we don't want data leakge from the test set so we only fit on the X_train data."
      ],
      "metadata": {
        "id": "3TfwRVZ116vN"
      }
    },
    {
      "cell_type": "code",
      "source": [
        "from sklearn.preprocessing import MinMaxScaler"
      ],
      "metadata": {
        "id": "WhRkVSy913pS"
      },
      "execution_count": 94,
      "outputs": []
    },
    {
      "cell_type": "code",
      "source": [
        "scaler =MinMaxScaler()"
      ],
      "metadata": {
        "id": "C32-jGDi2MNo"
      },
      "execution_count": 95,
      "outputs": []
    },
    {
      "cell_type": "code",
      "source": [
        "X_train=scaler.fit_transform(X_train)"
      ],
      "metadata": {
        "id": "YQrNKhTY2QrG"
      },
      "execution_count": 96,
      "outputs": []
    },
    {
      "cell_type": "code",
      "source": [
        "X_test=scaler.transform(X_test)"
      ],
      "metadata": {
        "id": "XRnIot1f2WwF"
      },
      "execution_count": 97,
      "outputs": []
    },
    {
      "cell_type": "markdown",
      "source": [
        "##Creating the Model"
      ],
      "metadata": {
        "id": "r0XzYNV8288-"
      }
    },
    {
      "cell_type": "code",
      "source": [
        "import tensorflow as tf\n",
        "from tensorflow.keras.models import Sequential\n",
        "from tensorflow.keras.layers import Dense, Activation, Dropout\n",
        "from tensorflow.keras.constraints import max_norm"
      ],
      "metadata": {
        "id": "_2GsRscz25g_"
      },
      "execution_count": 98,
      "outputs": []
    },
    {
      "cell_type": "markdown",
      "source": [
        "Build a sequential model to will be trained on the data. You have unlimited options here, but here is what the solution uses: a model that goes 78 --> 39 --> 19--> 1 output neuron. OPTIONAL: Explore adding Dropout layers 1 2"
      ],
      "metadata": {
        "id": "_rjfuPBK3YZ6"
      }
    },
    {
      "cell_type": "code",
      "source": [
        "model = Sequential()"
      ],
      "metadata": {
        "id": "8C6B7t023T46"
      },
      "execution_count": 99,
      "outputs": []
    },
    {
      "cell_type": "code",
      "source": [
        "#input layer\n",
        "model.add(Dense(78,activation='relu'))\n",
        "model.add(Dropout(0.2))\n",
        "\n",
        "#hidden layer\n",
        "model.add(Dense(39,activation='relu'))\n",
        "model.add(Dropout(0.2))\n",
        "\n",
        "#hidden layer\n",
        "model.add(Dense(19,activation='relu'))\n",
        "model.add(Dropout(0.2))\n",
        "\n",
        "#output layer\n",
        "model.add(Dense(units=1,activation='sigmoid'))\n",
        "\n",
        "#compile model \n",
        "model.compile(loss='binary_crossentropy',optimizer='adam')"
      ],
      "metadata": {
        "id": "9rwm-pG63bwc"
      },
      "execution_count": 100,
      "outputs": []
    },
    {
      "cell_type": "markdown",
      "source": [
        "Fit the model to the training data for at least 25 epochs. Also add in the validation data for later plotting. Optional: add in a batch_size of 256."
      ],
      "metadata": {
        "id": "I-tlTLgF4SSh"
      }
    },
    {
      "cell_type": "code",
      "source": [
        "model.fit(x=X_train,y=y_train,\n",
        "          epochs=25,\n",
        "          batch_size=256, validation_data=(X_test,y_test),\n",
        "          )"
      ],
      "metadata": {
        "colab": {
          "base_uri": "https://localhost:8080/"
        },
        "id": "zGISeAO94PbL",
        "outputId": "33a6a1e1-d72b-4140-b011-dc71f05d54a5"
      },
      "execution_count": 101,
      "outputs": [
        {
          "output_type": "stream",
          "name": "stdout",
          "text": [
            "Epoch 1/25\n",
            "188/188 [==============================] - 2s 6ms/step - loss: 0.4305 - val_loss: 0.3014\n",
            "Epoch 2/25\n",
            "188/188 [==============================] - 1s 4ms/step - loss: 0.3020 - val_loss: 0.2711\n",
            "Epoch 3/25\n",
            "188/188 [==============================] - 1s 4ms/step - loss: 0.2833 - val_loss: 0.2681\n",
            "Epoch 4/25\n",
            "188/188 [==============================] - 1s 4ms/step - loss: 0.2769 - val_loss: 0.2654\n",
            "Epoch 5/25\n",
            "188/188 [==============================] - 1s 4ms/step - loss: 0.2733 - val_loss: 0.2640\n",
            "Epoch 6/25\n",
            "188/188 [==============================] - 1s 3ms/step - loss: 0.2720 - val_loss: 0.2642\n",
            "Epoch 7/25\n",
            "188/188 [==============================] - 1s 4ms/step - loss: 0.2702 - val_loss: 0.2654\n",
            "Epoch 8/25\n",
            "188/188 [==============================] - 1s 4ms/step - loss: 0.2676 - val_loss: 0.2636\n",
            "Epoch 9/25\n",
            "188/188 [==============================] - 1s 4ms/step - loss: 0.2666 - val_loss: 0.2632\n",
            "Epoch 10/25\n",
            "188/188 [==============================] - 1s 4ms/step - loss: 0.2654 - val_loss: 0.2626\n",
            "Epoch 11/25\n",
            "188/188 [==============================] - 1s 4ms/step - loss: 0.2652 - val_loss: 0.2636\n",
            "Epoch 12/25\n",
            "188/188 [==============================] - 1s 4ms/step - loss: 0.2633 - val_loss: 0.2628\n",
            "Epoch 13/25\n",
            "188/188 [==============================] - 1s 4ms/step - loss: 0.2627 - val_loss: 0.2627\n",
            "Epoch 14/25\n",
            "188/188 [==============================] - 1s 3ms/step - loss: 0.2629 - val_loss: 0.2625\n",
            "Epoch 15/25\n",
            "188/188 [==============================] - 1s 4ms/step - loss: 0.2609 - val_loss: 0.2624\n",
            "Epoch 16/25\n",
            "188/188 [==============================] - 1s 4ms/step - loss: 0.2610 - val_loss: 0.2620\n",
            "Epoch 17/25\n",
            "188/188 [==============================] - 1s 4ms/step - loss: 0.2598 - val_loss: 0.2617\n",
            "Epoch 18/25\n",
            "188/188 [==============================] - 1s 4ms/step - loss: 0.2599 - val_loss: 0.2618\n",
            "Epoch 19/25\n",
            "188/188 [==============================] - 1s 3ms/step - loss: 0.2588 - val_loss: 0.2625\n",
            "Epoch 20/25\n",
            "188/188 [==============================] - 1s 4ms/step - loss: 0.2577 - val_loss: 0.2635\n",
            "Epoch 21/25\n",
            "188/188 [==============================] - 1s 4ms/step - loss: 0.2571 - val_loss: 0.2622\n",
            "Epoch 22/25\n",
            "188/188 [==============================] - 1s 4ms/step - loss: 0.2569 - val_loss: 0.2630\n",
            "Epoch 23/25\n",
            "188/188 [==============================] - 1s 3ms/step - loss: 0.2569 - val_loss: 0.2630\n",
            "Epoch 24/25\n",
            "188/188 [==============================] - 1s 4ms/step - loss: 0.2557 - val_loss: 0.2652\n",
            "Epoch 25/25\n",
            "188/188 [==============================] - 1s 4ms/step - loss: 0.2551 - val_loss: 0.2631\n"
          ]
        },
        {
          "output_type": "execute_result",
          "data": {
            "text/plain": [
              "<keras.callbacks.History at 0x7f20f14ccad0>"
            ]
          },
          "metadata": {},
          "execution_count": 101
        }
      ]
    },
    {
      "cell_type": "markdown",
      "source": [
        "Save your model."
      ],
      "metadata": {
        "id": "OBzMnBAc4wIM"
      }
    },
    {
      "cell_type": "code",
      "source": [
        "from tensorflow.keras.models import load_model"
      ],
      "metadata": {
        "id": "wiGQ0-cV4jr9"
      },
      "execution_count": 102,
      "outputs": []
    },
    {
      "cell_type": "code",
      "source": [
        "model.save('full_data_project_model.h5')"
      ],
      "metadata": {
        "id": "5LOICC324163"
      },
      "execution_count": 103,
      "outputs": []
    },
    {
      "cell_type": "markdown",
      "source": [
        "##Evaluating Model Performance\n",
        "\n",
        "Plot out the validation loss versus the training loss"
      ],
      "metadata": {
        "id": "qkrbiCCM48L3"
      }
    },
    {
      "cell_type": "code",
      "source": [
        "losses=pd.DataFrame(model.history.history)"
      ],
      "metadata": {
        "id": "oCfqF11Y46Vj"
      },
      "execution_count": 104,
      "outputs": []
    },
    {
      "cell_type": "code",
      "source": [
        "losses[['loss','val_loss']].plot()"
      ],
      "metadata": {
        "colab": {
          "base_uri": "https://localhost:8080/",
          "height": 282
        },
        "id": "cIR-SZbn5F59",
        "outputId": "063fda97-17a2-42fa-c884-b84f8b511b1a"
      },
      "execution_count": 105,
      "outputs": [
        {
          "output_type": "execute_result",
          "data": {
            "text/plain": [
              "<matplotlib.axes._subplots.AxesSubplot at 0x7f20f12b08d0>"
            ]
          },
          "metadata": {},
          "execution_count": 105
        },
        {
          "output_type": "display_data",
          "data": {
            "text/plain": [
              "<Figure size 432x288 with 1 Axes>"
            ],
            "image/png": "[encoded data removed]"
          },
          "metadata": {
            "needs_background": "light"
          }
        }
      ]
    },
    {
      "cell_type": "markdown",
      "source": [
        "Create predictions from the X_test set and display a classification report and confusion matrix for the X_test set."
      ],
      "metadata": {
        "id": "g8NXMJ-P5PDv"
      }
    },
    {
      "cell_type": "code",
      "source": [
        "from sklearn.metrics import classification_report,confusion_matrix"
      ],
      "metadata": {
        "id": "2MBc637j5LX1"
      },
      "execution_count": 106,
      "outputs": []
    },
    {
      "cell_type": "code",
      "source": [
        "predictions = (model.predict(X_test) > 0.5).astype(\"int32\")"
      ],
      "metadata": {
        "id": "6fKuZCiy5bPk"
      },
      "execution_count": 113,
      "outputs": []
    },
    {
      "cell_type": "code",
      "source": [
        "print(classification_report(y_test,predictions))"
      ],
      "metadata": {
        "colab": {
          "base_uri": "https://localhost:8080/"
        },
        "id": "GhBCqLK45kCA",
        "outputId": "222d448e-291a-4dad-fb48-6ba474d02db8"
      },
      "execution_count": 114,
      "outputs": [
        {
          "output_type": "stream",
          "name": "stdout",
          "text": [
            "              precision    recall  f1-score   support\n",
            "\n",
            "         0.0       0.93      0.48      0.63      2423\n",
            "         1.0       0.88      0.99      0.93      9603\n",
            "\n",
            "    accuracy                           0.89     12026\n",
            "   macro avg       0.90      0.73      0.78     12026\n",
            "weighted avg       0.89      0.89      0.87     12026\n",
            "\n"
          ]
        }
      ]
    },
    {
      "cell_type": "code",
      "source": [
        "confusion_matrix(y_test,predictions)"
      ],
      "metadata": {
        "colab": {
          "base_uri": "https://localhost:8080/"
        },
        "id": "WuyTrrwD5yM3",
        "outputId": "fc30435c-57a9-4a49-fd88-501bc37047aa"
      },
      "execution_count": 115,
      "outputs": [
        {
          "output_type": "execute_result",
          "data": {
            "text/plain": [
              "array([[1152, 1271],\n",
              "       [  93, 9510]])"
            ]
          },
          "metadata": {},
          "execution_count": 115
        }
      ]
    },
    {
      "cell_type": "markdown",
      "source": [
        " Given the customer below, would you offer this person a loan?"
      ],
      "metadata": {
        "id": "dAixzFQq6NYG"
      }
    },
    {
      "cell_type": "code",
      "source": [
        "import random \n",
        "random.seed(101)\n",
        "random_ind=random.randint(0,len(df))\n",
        "\n",
        "new_customer=df.drop('loan_repaid',axis=1).iloc[random_ind]\n",
        "new_customer"
      ],
      "metadata": {
        "colab": {
          "base_uri": "https://localhost:8080/"
        },
        "id": "hs2Gvlqu52iL",
        "outputId": "ca0dd0b4-1ec7-455c-b861-c5188040801d"
      },
      "execution_count": 116,
      "outputs": [
        {
          "output_type": "execute_result",
          "data": {
            "text/plain": [
              "loan_amnt         25000.0\n",
              "term            60 months\n",
              "int_rate            28.49\n",
              "installment        785.81\n",
              "annual_inc        80000.0\n",
              "                  ...    \n",
              "30723                   0\n",
              "48052                   0\n",
              "70466                   0\n",
              "86630                   0\n",
              "93700                   0\n",
              "Name: 41997, Length: 77, dtype: object"
            ]
          },
          "metadata": {},
          "execution_count": 116
        }
      ]
    },
    {
      "cell_type": "code",
      "source": [
        "df.iloc[random_ind]['loan_repaid']"
      ],
      "metadata": {
        "colab": {
          "base_uri": "https://localhost:8080/"
        },
        "id": "Es_BTrP56k7v",
        "outputId": "bd066e01-43b1-46f7-f2bc-41b339908a35"
      },
      "execution_count": 121,
      "outputs": [
        {
          "output_type": "execute_result",
          "data": {
            "text/plain": [
              "0.0"
            ]
          },
          "metadata": {},
          "execution_count": 121
        }
      ]
    },
    {
      "cell_type": "code",
      "source": [],
      "metadata": {
        "id": "_BWad-Uv61Mk"
      },
      "execution_count": null,
      "outputs": []
    }
  ]
}